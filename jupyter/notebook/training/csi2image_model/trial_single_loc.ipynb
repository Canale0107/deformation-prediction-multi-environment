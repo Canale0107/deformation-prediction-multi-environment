{
 "cells": [
  {
   "cell_type": "markdown",
   "id": "b8e1be92-85b9-4bfa-b106-fb2bece22fcd",
   "metadata": {},
   "source": [
    "# Single Location"
   ]
  },
  {
   "cell_type": "code",
   "execution_count": 1,
   "id": "70f800f8-0815-4343-b380-81c89163d3c2",
   "metadata": {},
   "outputs": [],
   "source": [
    "%load_ext autoreload\n",
    "%autoreload 2"
   ]
  },
  {
   "cell_type": "code",
   "execution_count": 2,
   "id": "1c52ce86-a3d0-4650-8d89-6c9b457c5f85",
   "metadata": {},
   "outputs": [
    {
     "name": "stderr",
     "output_type": "stream",
     "text": [
      "2024-10-30 17:52:30.081452: I tensorflow/core/platform/cpu_feature_guard.cc:193] This TensorFlow binary is optimized with oneAPI Deep Neural Network Library (oneDNN) to use the following CPU instructions in performance-critical operations:  AVX2 AVX512F AVX512_VNNI FMA\n",
      "To enable them in other operations, rebuild TensorFlow with the appropriate compiler flags.\n",
      "2024-10-30 17:52:30.211079: I tensorflow/core/util/port.cc:104] oneDNN custom operations are on. You may see slightly different numerical results due to floating-point round-off errors from different computation orders. To turn them off, set the environment variable `TF_ENABLE_ONEDNN_OPTS=0`.\n"
     ]
    }
   ],
   "source": [
    "import os\n",
    "from pathlib import Path\n",
    "from datetime import datetime\n",
    "from dataclasses import dataclass\n",
    "from typing import Callable, List\n",
    "\n",
    "import numpy as np\n",
    "import tensorflow as tf\n",
    "from tensorflow.keras.losses import BinaryCrossentropy, BinaryFocalCrossentropy\n",
    "from tensorflow.keras.optimizers import Adam\n",
    "from tensorflow.keras.callbacks import TensorBoard, EarlyStopping"
   ]
  },
  {
   "cell_type": "code",
   "execution_count": 4,
   "id": "435227d2-109e-4033-962b-1dcca0d07b4a",
   "metadata": {},
   "outputs": [],
   "source": [
    "from models.csi2image_model import csi2image_model\n",
    "from util.training import init_device\n",
    "from util.training.dataloader import split_data_for_single_location, preprocess_pipeline\n",
    "from util.training.metrics import IntersectionOverUnion, MeanPixelAccuracy"
   ]
  },
  {
   "cell_type": "code",
   "execution_count": 5,
   "id": "cdf10cbe-28cd-4778-acf5-adf4e2cbe1fb",
   "metadata": {},
   "outputs": [
    {
     "name": "stdout",
     "output_type": "stream",
     "text": [
      "TensorFlow version: 2.11.0\n"
     ]
    }
   ],
   "source": [
    "print(\"TensorFlow version:\", tf.__version__)"
   ]
  },
  {
   "cell_type": "markdown",
   "id": "b7598609-039b-4eb1-81b8-ab5ca659260d",
   "metadata": {},
   "source": [
    "# 準備\n",
    "---"
   ]
  },
  {
   "cell_type": "markdown",
   "id": "3f829dc1-0e66-412b-b7c2-05fbe9b37b56",
   "metadata": {},
   "source": [
    "## デバイスの初期化"
   ]
  },
  {
   "cell_type": "code",
   "execution_count": 7,
   "id": "3d4ca793-58bd-4042-840f-a8a994d74690",
   "metadata": {},
   "outputs": [
    {
     "name": "stdout",
     "output_type": "stream",
     "text": [
      "Wed Oct 30 17:53:12 2024       \n",
      "+-----------------------------------------------------------------------------+\n",
      "| NVIDIA-SMI 470.74       Driver Version: 470.74       CUDA Version: 11.4     |\n",
      "|-------------------------------+----------------------+----------------------+\n",
      "| GPU  Name        Persistence-M| Bus-Id        Disp.A | Volatile Uncorr. ECC |\n",
      "| Fan  Temp  Perf  Pwr:Usage/Cap|         Memory-Usage | GPU-Util  Compute M. |\n",
      "|                               |                      |               MIG M. |\n",
      "|===============================+======================+======================|\n",
      "|   0  NVIDIA RTX A6000    On   | 00000000:18:00.0 Off |                  Off |\n",
      "| 30%   24C    P8    16W / 300W |     28MiB / 48682MiB |      0%      Default |\n",
      "|                               |                      |                  N/A |\n",
      "+-------------------------------+----------------------+----------------------+\n",
      "|   1  NVIDIA RTX A6000    On   | 00000000:3B:00.0 Off |                  Off |\n",
      "| 30%   28C    P8    23W / 300W |      8MiB / 48685MiB |      0%      Default |\n",
      "|                               |                      |                  N/A |\n",
      "+-------------------------------+----------------------+----------------------+\n",
      "|   2  NVIDIA RTX A6000    On   | 00000000:5E:00.0 Off |                  Off |\n",
      "| 30%   29C    P8    25W / 300W |  47657MiB / 48685MiB |      0%      Default |\n",
      "|                               |                      |                  N/A |\n",
      "+-------------------------------+----------------------+----------------------+\n",
      "|   3  NVIDIA RTX A6000    On   | 00000000:86:00.0 Off |                  Off |\n",
      "| 30%   29C    P3    76W / 300W |    449MiB / 48685MiB |      0%      Default |\n",
      "|                               |                      |                  N/A |\n",
      "+-------------------------------+----------------------+----------------------+\n",
      "|   4  NVIDIA RTX A6000    On   | 00000000:D8:00.0 Off |                  Off |\n",
      "| 30%   25C    P8    19W / 300W |      8MiB / 48685MiB |      0%      Default |\n",
      "|                               |                      |                  N/A |\n",
      "+-------------------------------+----------------------+----------------------+\n",
      "                                                                               \n",
      "+-----------------------------------------------------------------------------+\n",
      "| Processes:                                                                  |\n",
      "|  GPU   GI   CI        PID   Type   Process name                  GPU Memory |\n",
      "|        ID   ID                                                   Usage      |\n",
      "|=============================================================================|\n",
      "+-----------------------------------------------------------------------------+\n"
     ]
    }
   ],
   "source": [
    "!nvidia-smi"
   ]
  },
  {
   "cell_type": "code",
   "execution_count": 8,
   "id": "604eb57a-efe0-4c1a-bb8b-e0f752e4ea90",
   "metadata": {},
   "outputs": [],
   "source": [
    "# 使用するGPUを指定\n",
    "gpu = [3]"
   ]
  },
  {
   "cell_type": "code",
   "execution_count": 9,
   "id": "116fef91-3836-46ad-8c74-24b7064dc5d1",
   "metadata": {},
   "outputs": [
    {
     "name": "stdout",
     "output_type": "stream",
     "text": [
      "Setting random seed: 42\n",
      "Random seed set for Python, NumPy, and TensorFlow.\n",
      "Detected 5 GPU(s): ['/physical_device:GPU:0', '/physical_device:GPU:1', '/physical_device:GPU:2', '/physical_device:GPU:3', '/physical_device:GPU:4']\n",
      "Visible GPU devices (1): ['/physical_device:GPU:3']\n"
     ]
    }
   ],
   "source": [
    "seed = 42\n",
    "init_device(seed, gpu)"
   ]
  },
  {
   "cell_type": "markdown",
   "id": "483c0f37-b915-4b84-8bea-0d7ab33b1325",
   "metadata": {},
   "source": [
    "## ハイパーパラメータクラスの定義"
   ]
  },
  {
   "cell_type": "code",
   "execution_count": 21,
   "id": "33aec5c8-bede-407d-a609-c6da5b4caa36",
   "metadata": {},
   "outputs": [],
   "source": [
    "@dataclass\n",
    "class HyperParameters:\n",
    "    epochs: int\n",
    "    batch_size: int\n",
    "    latent_dim: int\n",
    "    loss_function: Callable\n",
    "    metrics: List[Callable]\n",
    "    optimizer: Callable"
   ]
  },
  {
   "cell_type": "markdown",
   "id": "c3d6bb41-6cb4-4800-90e8-e6b01fafe394",
   "metadata": {},
   "source": [
    "## モデルの初期化関数の定義"
   ]
  },
  {
   "cell_type": "code",
   "execution_count": 47,
   "id": "a7df09fd-ae16-42f4-a4cd-6cc5d41aa869",
   "metadata": {},
   "outputs": [],
   "source": [
    "def init_model(hparam):\n",
    "    model = csi2image_model(\n",
    "        input_shape=(30, 10),\n",
    "        latent_dim=hparam.latent_dim\n",
    "    )\n",
    "    \n",
    "    model.compile(\n",
    "        optimizer = hparam.optimizer,\n",
    "        loss = hparam.loss_function,\n",
    "        metrics = hparam.metrics,\n",
    "    )\n",
    "\n",
    "    return model"
   ]
  },
  {
   "cell_type": "markdown",
   "id": "f4209a36-f353-4ada-b4e1-ce7251058c46",
   "metadata": {},
   "source": [
    "## コールバック準備関数の定義"
   ]
  },
  {
   "cell_type": "code",
   "execution_count": 48,
   "id": "b2fdcf53-c4c3-4568-ad8f-4498e1503892",
   "metadata": {},
   "outputs": [],
   "source": [
    "def prepare_callbacks(hparam, log_dirpath):\n",
    "\n",
    "    callbacks = [\n",
    "        TensorBoard(log_dir=log_dirpath, histogram_freq=1),\n",
    "        EarlyStopping(\n",
    "            monitor='val_iou',\n",
    "            mode='max',\n",
    "            patience=10,\n",
    "            restore_best_weights=True,\n",
    "        )\n",
    "    ]\n",
    "\n",
    "    return callbacks"
   ]
  },
  {
   "cell_type": "markdown",
   "id": "41951eb0-7e4f-4145-8437-101bbc8124d9",
   "metadata": {},
   "source": [
    "## モデルを訓練する関数の定義"
   ]
  },
  {
   "cell_type": "code",
   "execution_count": 49,
   "id": "48791ef5-c6a7-4268-8afa-692f7f2552bb",
   "metadata": {},
   "outputs": [],
   "source": [
    "def train(hparam, dataset, log_dirpath):\n",
    "    print(f'log_dir = {log_dirpath}')\n",
    "\n",
    "    # データの用意\n",
    "    train_data, valid_data, test_data = dataset\n",
    "    X_train, Y_train = train_data\n",
    "    X_valid, Y_valid = valid_data\n",
    "    X_test, Y_test = test_data\n",
    "\n",
    "    # モデルを作成\n",
    "    model = init_model(hparam)\n",
    "\n",
    "    # モデルのフィッティング\n",
    "    history = model.fit(\n",
    "        X_train, Y_train,\n",
    "        validation_data=(X_valid, Y_valid),\n",
    "        epochs = hparam.epochs,\n",
    "        batch_size = hparam.batch_size,\n",
    "        verbose = 1,\n",
    "        callbacks = prepare_callbacks(hparam, log_dirpath)\n",
    "    )\n",
    "\n",
    "    # テストデータでの評価\n",
    "    test_loss, *test_metric = model.evaluate(X_test, Y_test, verbose=2)\n",
    "    print(f\"Test Loss: {test_loss}, Test Metric: {test_metric}\")\n",
    "\n",
    "    return history, model"
   ]
  },
  {
   "cell_type": "markdown",
   "id": "b31fa931-9542-4226-b687-da7d7850f359",
   "metadata": {},
   "source": [
    "# モデルの訓練\n",
    "---"
   ]
  },
  {
   "cell_type": "code",
   "execution_count": 50,
   "id": "0b180faf-03bc-4730-bfc4-59d55d23a68b",
   "metadata": {},
   "outputs": [],
   "source": [
    "def get_log_dirpath(root_log_dirpath, notebook_name):\n",
    "    date = datetime.now().strftime(\"%Y-%m-%d\")\n",
    "    time = datetime.now().strftime(\"%H-%M-%S\")\n",
    "    log_dirpath = os.path.join(\n",
    "        root_log_dirpath, \n",
    "        date,\n",
    "        notebook_name,\n",
    "        time\n",
    "    )\n",
    "\n",
    "    return log_dirpath"
   ]
  },
  {
   "cell_type": "code",
   "execution_count": 51,
   "id": "bff5cc34-c6d8-4288-8158-58d4a95408bc",
   "metadata": {},
   "outputs": [
    {
     "name": "stdout",
     "output_type": "stream",
     "text": [
      "train data shuffled.\n",
      "30 個の主成分で維持される分散: 98.23%\n",
      "log_dir = /tf/workspace/deformation-prediction-multi-environment/logs/2024-10-30/tsingle_location_real_and_imag_511/18-05-12\n",
      "Epoch 1/150\n",
      "33/33 [==============================] - 6s 44ms/step - loss: 0.6214 - iou: 0.1347 - mpa: 0.5067 - val_loss: 0.1347 - val_iou: 0.0000e+00 - val_mpa: 0.5000\n",
      "Epoch 2/150\n",
      "33/33 [==============================] - 1s 34ms/step - loss: 0.1699 - iou: 0.0359 - mpa: 0.5024 - val_loss: 0.1368 - val_iou: 5.5812e-04 - val_mpa: 0.4895\n",
      "Epoch 3/150\n",
      "33/33 [==============================] - 1s 35ms/step - loss: 0.1366 - iou: 0.0452 - mpa: 0.5086 - val_loss: 0.1436 - val_iou: 0.0031 - val_mpa: 0.4773\n",
      "Epoch 4/150\n",
      "33/33 [==============================] - 1s 34ms/step - loss: 0.1242 - iou: 0.0537 - mpa: 0.5154 - val_loss: 0.1425 - val_iou: 0.0032 - val_mpa: 0.4820\n",
      "Epoch 5/150\n",
      "33/33 [==============================] - 1s 35ms/step - loss: 0.1171 - iou: 0.0742 - mpa: 0.5267 - val_loss: 0.1389 - val_iou: 0.0027 - val_mpa: 0.4880\n",
      "Epoch 6/150\n",
      "33/33 [==============================] - 1s 35ms/step - loss: 0.1130 - iou: 0.1031 - mpa: 0.5419 - val_loss: 0.1374 - val_iou: 0.0032 - val_mpa: 0.4881\n",
      "Epoch 7/150\n",
      "33/33 [==============================] - 1s 33ms/step - loss: 0.1090 - iou: 0.1368 - mpa: 0.5602 - val_loss: 0.1314 - val_iou: 0.0028 - val_mpa: 0.4931\n",
      "Epoch 8/150\n",
      "33/33 [==============================] - 1s 36ms/step - loss: 0.1061 - iou: 0.1723 - mpa: 0.5795 - val_loss: 0.1271 - val_iou: 0.0029 - val_mpa: 0.4988\n",
      "Epoch 9/150\n",
      "33/33 [==============================] - 1s 33ms/step - loss: 0.1039 - iou: 0.1935 - mpa: 0.5916 - val_loss: 0.1237 - val_iou: 0.0032 - val_mpa: 0.4997\n",
      "Epoch 10/150\n",
      "33/33 [==============================] - 1s 35ms/step - loss: 0.1020 - iou: 0.2085 - mpa: 0.6001 - val_loss: 0.1210 - val_iou: 0.0036 - val_mpa: 0.5001\n",
      "Epoch 11/150\n",
      "33/33 [==============================] - 1s 34ms/step - loss: 0.1007 - iou: 0.2253 - mpa: 0.6094 - val_loss: 0.1194 - val_iou: 0.0040 - val_mpa: 0.5000\n",
      "Epoch 12/150\n",
      "33/33 [==============================] - 1s 35ms/step - loss: 0.0993 - iou: 0.2393 - mpa: 0.6176 - val_loss: 0.1178 - val_iou: 0.0043 - val_mpa: 0.5000\n",
      "Epoch 13/150\n",
      "33/33 [==============================] - 1s 33ms/step - loss: 0.0991 - iou: 0.2472 - mpa: 0.6225 - val_loss: 0.1169 - val_iou: 0.0045 - val_mpa: 0.5000\n",
      "Epoch 14/150\n",
      "33/33 [==============================] - 1s 34ms/step - loss: 0.0973 - iou: 0.2542 - mpa: 0.6262 - val_loss: 0.1162 - val_iou: 0.0047 - val_mpa: 0.5002\n",
      "Epoch 15/150\n",
      "33/33 [==============================] - 1s 36ms/step - loss: 0.0964 - iou: 0.2557 - mpa: 0.6273 - val_loss: 0.1142 - val_iou: 0.0045 - val_mpa: 0.5002\n",
      "Epoch 16/150\n",
      "33/33 [==============================] - 1s 34ms/step - loss: 0.0961 - iou: 0.2563 - mpa: 0.6278 - val_loss: 0.1120 - val_iou: 0.0168 - val_mpa: 0.5065\n",
      "Epoch 17/150\n",
      "33/33 [==============================] - 1s 34ms/step - loss: 0.0952 - iou: 0.2560 - mpa: 0.6277 - val_loss: 0.1095 - val_iou: 0.0229 - val_mpa: 0.5099\n",
      "Epoch 18/150\n",
      "33/33 [==============================] - 1s 34ms/step - loss: 0.0947 - iou: 0.2585 - mpa: 0.6291 - val_loss: 0.1090 - val_iou: 0.0342 - val_mpa: 0.5156\n",
      "Epoch 19/150\n",
      "33/33 [==============================] - 1s 35ms/step - loss: 0.0943 - iou: 0.2580 - mpa: 0.6287 - val_loss: 0.1052 - val_iou: 0.0996 - val_mpa: 0.5474\n",
      "Epoch 20/150\n",
      "33/33 [==============================] - 1s 34ms/step - loss: 0.0941 - iou: 0.2580 - mpa: 0.6287 - val_loss: 0.1047 - val_iou: 0.1114 - val_mpa: 0.5534\n",
      "Epoch 21/150\n",
      "33/33 [==============================] - 1s 34ms/step - loss: 0.0933 - iou: 0.2623 - mpa: 0.6314 - val_loss: 0.1028 - val_iou: 0.1400 - val_mpa: 0.5675\n",
      "Epoch 22/150\n",
      "33/33 [==============================] - 1s 34ms/step - loss: 0.0929 - iou: 0.2633 - mpa: 0.6319 - val_loss: 0.1021 - val_iou: 0.1886 - val_mpa: 0.5919\n",
      "Epoch 23/150\n",
      "33/33 [==============================] - 1s 34ms/step - loss: 0.0933 - iou: 0.2634 - mpa: 0.6319 - val_loss: 0.1012 - val_iou: 0.2030 - val_mpa: 0.5993\n",
      "Epoch 24/150\n",
      "33/33 [==============================] - 1s 34ms/step - loss: 0.0925 - iou: 0.2619 - mpa: 0.6310 - val_loss: 0.1009 - val_iou: 0.2022 - val_mpa: 0.5987\n",
      "Epoch 25/150\n",
      "33/33 [==============================] - 1s 34ms/step - loss: 0.0922 - iou: 0.2643 - mpa: 0.6324 - val_loss: 0.1009 - val_iou: 0.2165 - val_mpa: 0.6061\n",
      "Epoch 26/150\n",
      "33/33 [==============================] - 1s 34ms/step - loss: 0.0923 - iou: 0.2643 - mpa: 0.6324 - val_loss: 0.0997 - val_iou: 0.2100 - val_mpa: 0.6027\n",
      "Epoch 27/150\n",
      "33/33 [==============================] - 1s 34ms/step - loss: 0.0917 - iou: 0.2639 - mpa: 0.6323 - val_loss: 0.0989 - val_iou: 0.2319 - val_mpa: 0.6142\n",
      "Epoch 28/150\n",
      "33/33 [==============================] - 1s 35ms/step - loss: 0.0916 - iou: 0.2617 - mpa: 0.6310 - val_loss: 0.0985 - val_iou: 0.2441 - val_mpa: 0.6210\n",
      "Epoch 29/150\n",
      "33/33 [==============================] - 1s 35ms/step - loss: 0.0913 - iou: 0.2635 - mpa: 0.6320 - val_loss: 0.0993 - val_iou: 0.2241 - val_mpa: 0.6100\n",
      "Epoch 30/150\n",
      "33/33 [==============================] - 1s 35ms/step - loss: 0.0908 - iou: 0.2637 - mpa: 0.6321 - val_loss: 0.0986 - val_iou: 0.2296 - val_mpa: 0.6132\n",
      "Epoch 31/150\n",
      "33/33 [==============================] - 1s 34ms/step - loss: 0.0908 - iou: 0.2642 - mpa: 0.6325 - val_loss: 0.0983 - val_iou: 0.2331 - val_mpa: 0.6150\n",
      "Epoch 32/150\n",
      "33/33 [==============================] - 1s 34ms/step - loss: 0.0906 - iou: 0.2660 - mpa: 0.6335 - val_loss: 0.0992 - val_iou: 0.2245 - val_mpa: 0.6103\n",
      "Epoch 33/150\n",
      "33/33 [==============================] - 1s 35ms/step - loss: 0.0905 - iou: 0.2638 - mpa: 0.6323 - val_loss: 0.0981 - val_iou: 0.2558 - val_mpa: 0.6274\n",
      "Epoch 34/150\n",
      "33/33 [==============================] - 1s 34ms/step - loss: 0.0903 - iou: 0.2675 - mpa: 0.6344 - val_loss: 0.0980 - val_iou: 0.2380 - val_mpa: 0.6175\n",
      "Epoch 35/150\n",
      "33/33 [==============================] - 1s 33ms/step - loss: 0.0902 - iou: 0.2648 - mpa: 0.6329 - val_loss: 0.0984 - val_iou: 0.2316 - val_mpa: 0.6142\n",
      "Epoch 36/150\n",
      "33/33 [==============================] - 1s 34ms/step - loss: 0.0901 - iou: 0.2668 - mpa: 0.6340 - val_loss: 0.0982 - val_iou: 0.2408 - val_mpa: 0.6193\n",
      "Epoch 37/150\n",
      "33/33 [==============================] - 1s 33ms/step - loss: 0.0902 - iou: 0.2682 - mpa: 0.6350 - val_loss: 0.0982 - val_iou: 0.2568 - val_mpa: 0.6280\n",
      "Epoch 38/150\n",
      "33/33 [==============================] - 1s 34ms/step - loss: 0.0902 - iou: 0.2681 - mpa: 0.6347 - val_loss: 0.0983 - val_iou: 0.2416 - val_mpa: 0.6195\n",
      "Epoch 39/150\n",
      "33/33 [==============================] - 1s 35ms/step - loss: 0.0903 - iou: 0.2670 - mpa: 0.6343 - val_loss: 0.0985 - val_iou: 0.2479 - val_mpa: 0.6230\n",
      "Epoch 40/150\n",
      "33/33 [==============================] - 1s 34ms/step - loss: 0.0894 - iou: 0.2701 - mpa: 0.6361 - val_loss: 0.0980 - val_iou: 0.2391 - val_mpa: 0.6183\n",
      "Epoch 41/150\n",
      "33/33 [==============================] - 1s 34ms/step - loss: 0.0892 - iou: 0.2738 - mpa: 0.6381 - val_loss: 0.0985 - val_iou: 0.2222 - val_mpa: 0.6092\n",
      "Epoch 42/150\n",
      "33/33 [==============================] - 1s 34ms/step - loss: 0.0893 - iou: 0.2710 - mpa: 0.6365 - val_loss: 0.0978 - val_iou: 0.2490 - val_mpa: 0.6236\n",
      "Epoch 43/150\n",
      "33/33 [==============================] - 1s 34ms/step - loss: 0.0891 - iou: 0.2739 - mpa: 0.6382 - val_loss: 0.0988 - val_iou: 0.2345 - val_mpa: 0.6158\n",
      "Epoch 44/150\n",
      "33/33 [==============================] - 1s 34ms/step - loss: 0.0895 - iou: 0.2713 - mpa: 0.6368 - val_loss: 0.0979 - val_iou: 0.2507 - val_mpa: 0.6248\n",
      "Epoch 45/150\n",
      "33/33 [==============================] - 1s 35ms/step - loss: 0.0890 - iou: 0.2742 - mpa: 0.6385 - val_loss: 0.0984 - val_iou: 0.2584 - val_mpa: 0.6291\n",
      "Epoch 46/150\n",
      "33/33 [==============================] - 1s 34ms/step - loss: 0.0889 - iou: 0.2749 - mpa: 0.6390 - val_loss: 0.0982 - val_iou: 0.2720 - val_mpa: 0.6370\n",
      "Epoch 47/150\n",
      "33/33 [==============================] - 1s 34ms/step - loss: 0.0887 - iou: 0.2762 - mpa: 0.6397 - val_loss: 0.0985 - val_iou: 0.2353 - val_mpa: 0.6162\n",
      "Epoch 48/150\n",
      "33/33 [==============================] - 1s 34ms/step - loss: 0.0885 - iou: 0.2764 - mpa: 0.6398 - val_loss: 0.0982 - val_iou: 0.2475 - val_mpa: 0.6230\n",
      "Epoch 49/150\n",
      "33/33 [==============================] - 1s 34ms/step - loss: 0.0887 - iou: 0.2773 - mpa: 0.6406 - val_loss: 0.0977 - val_iou: 0.2553 - val_mpa: 0.6274\n",
      "Epoch 50/150\n",
      "33/33 [==============================] - 1s 34ms/step - loss: 0.0884 - iou: 0.2786 - mpa: 0.6412 - val_loss: 0.0979 - val_iou: 0.2514 - val_mpa: 0.6255\n",
      "Epoch 51/150\n",
      "33/33 [==============================] - 1s 34ms/step - loss: 0.0882 - iou: 0.2802 - mpa: 0.6422 - val_loss: 0.0985 - val_iou: 0.2391 - val_mpa: 0.6183\n",
      "Epoch 52/150\n",
      "33/33 [==============================] - 1s 35ms/step - loss: 0.0886 - iou: 0.2782 - mpa: 0.6410 - val_loss: 0.0984 - val_iou: 0.2553 - val_mpa: 0.6274\n",
      "Epoch 53/150\n",
      "33/33 [==============================] - 1s 33ms/step - loss: 0.0880 - iou: 0.2828 - mpa: 0.6438 - val_loss: 0.0998 - val_iou: 0.2075 - val_mpa: 0.6016\n",
      "Epoch 54/150\n",
      "33/33 [==============================] - 1s 35ms/step - loss: 0.0880 - iou: 0.2830 - mpa: 0.6439 - val_loss: 0.0989 - val_iou: 0.2337 - val_mpa: 0.6154\n",
      "Epoch 55/150\n",
      "33/33 [==============================] - 1s 35ms/step - loss: 0.0878 - iou: 0.2823 - mpa: 0.6435 - val_loss: 0.0982 - val_iou: 0.2575 - val_mpa: 0.6286\n",
      "Epoch 56/150\n",
      "33/33 [==============================] - 1s 34ms/step - loss: 0.0878 - iou: 0.2873 - mpa: 0.6465 - val_loss: 0.0991 - val_iou: 0.2583 - val_mpa: 0.6291\n",
      "56/56 - 0s - loss: 0.0997 - iou: 0.2615 - mpa: 0.6300 - 432ms/epoch - 8ms/step\n",
      "Test Loss: 0.09974248707294464, Test Metric: [0.261540949344635, 0.6299724578857422]\n"
     ]
    }
   ],
   "source": [
    "# データをロード\n",
    "csi_preprocess_id = 'real_and_imag'\n",
    "location = '511'\n",
    "dataset = split_data_for_single_location(csi_preprocess_id, location, shuffle=True)\n",
    "n_components = 30\n",
    "window_size = 10\n",
    "dataset = preprocess_pipeline(dataset, n_components, window_size)\n",
    "\n",
    "# ハイパーパラメータの指定\n",
    "hparam = HyperParameters(\n",
    "    epochs = 150,\n",
    "    batch_size = 256,\n",
    "    latent_dim = 34,\n",
    "    optimizer = Adam(learning_rate=0.001),\n",
    "    loss_function = BinaryFocalCrossentropy(gamma=2), # BinaryCrossentropy(),\n",
    "    metrics = [IntersectionOverUnion(threshold=0.5), MeanPixelAccuracy()],\n",
    ")\n",
    "\n",
    "# ログディレクトリを指定\n",
    "project_dirpath = Path('/tf/workspace/deformation-prediction-multi-environment')\n",
    "root_log_dirpath = project_dirpath/'logs' \n",
    "notebook_name = f'tsingle_location_real_and_imag_{location}'\n",
    "log_dirpath = get_log_dirpath(root_log_dirpath, notebook_name)\n",
    "\n",
    "history, model = train(hparam, dataset, log_dirpath)"
   ]
  },
  {
   "cell_type": "markdown",
   "id": "b2fa3ef0-89f1-4c07-9782-eaf9022dcfb7",
   "metadata": {},
   "source": [
    "# 評価\n",
    "---"
   ]
  },
  {
   "cell_type": "code",
   "execution_count": 41,
   "id": "47987e68-204d-47fb-89fd-99620cd82809",
   "metadata": {},
   "outputs": [],
   "source": [
    "_, valid_data, test_data = dataset\n",
    "X_valid, Y_valid = valid_data\n",
    "X_test, Y_test = test_data"
   ]
  },
  {
   "cell_type": "markdown",
   "id": "02bd6d6e-63ca-4c5b-a4ce-afff9e31b27c",
   "metadata": {},
   "source": [
    "## 各メトリックの平均値"
   ]
  },
  {
   "cell_type": "code",
   "execution_count": 42,
   "id": "42f81a82-b459-4f0b-a2b2-664ccdc1a54f",
   "metadata": {},
   "outputs": [
    {
     "name": "stdout",
     "output_type": "stream",
     "text": [
      "56/56 [==============================] - 1s 9ms/step - loss: 0.0979 - iou: 0.2891 - mpa: 0.6463\n",
      "loss: 0.0979\n",
      "iou: 0.2891\n",
      "mpa: 0.6463\n"
     ]
    }
   ],
   "source": [
    "results = model.evaluate(X_test, Y_test)\n",
    "for name, value in zip(model.metrics_names, results):\n",
    "    print(f\"{name}: {value:.04f}\")"
   ]
  },
  {
   "cell_type": "markdown",
   "id": "2be5b63b-5d68-4b24-9969-ad8dddff7d39",
   "metadata": {},
   "source": [
    "# 予測結果のサンプルをランダムに表示"
   ]
  },
  {
   "cell_type": "code",
   "execution_count": 43,
   "id": "8a77b5a7-8723-42bb-810d-5b67f410b17a",
   "metadata": {},
   "outputs": [],
   "source": [
    "from util.plot import plot_predictions"
   ]
  },
  {
   "cell_type": "code",
   "execution_count": 44,
   "id": "a63d48af-dda9-4dd4-9299-06ffe343471c",
   "metadata": {},
   "outputs": [],
   "source": [
    "metrics = {'IoU': IntersectionOverUnion(threshold=0.5), 'mPA': MeanPixelAccuracy()}"
   ]
  },
  {
   "cell_type": "code",
   "execution_count": 45,
   "id": "6e416ce1-a1ff-46f2-a449-371f2504c3d2",
   "metadata": {},
   "outputs": [
    {
     "name": "stdout",
     "output_type": "stream",
     "text": [
      "56/56 [==============================] - 1s 6ms/step\n"
     ]
    },
    {
     "data": {
      "image/png": "[encoded data removed]",
      "text/plain": [
       "<Figure size 1200x400 with 12 Axes>"
      ]
     },
     "metadata": {},
     "output_type": "display_data"
    }
   ],
   "source": [
    "# 検証セット\n",
    "plot_predictions(model, X_valid, Y_valid, n_samples=6, threshold=0.5, seed=42, metrics=metrics)"
   ]
  },
  {
   "cell_type": "code",
   "execution_count": 46,
   "id": "fceb28e6-4ecd-4aa8-90e7-5a748e95c8ac",
   "metadata": {},
   "outputs": [
    {
     "name": "stdout",
     "output_type": "stream",
     "text": [
      "56/56 [==============================] - 0s 6ms/step\n"
     ]
    },
    {
     "data": {
      "image/png": "[encoded data removed]",
      "text/plain": [
       "<Figure size 1200x400 with 12 Axes>"
      ]
     },
     "metadata": {},
     "output_type": "display_data"
    }
   ],
   "source": [
    "# テストセット\n",
    "plot_predictions(model, X_test, Y_test, n_samples=6, threshold=0.5, seed=42, metrics=metrics)"
   ]
  },
  {
   "cell_type": "code",
   "execution_count": null,
   "id": "797a3ef1-940d-46f6-8bb4-7279bb527ea5",
   "metadata": {},
   "outputs": [],
   "source": []
  }
 ],
 "metadata": {
  "kernelspec": {
   "display_name": "Python 3 (ipykernel)",
   "language": "python",
   "name": "python3"
  },
  "language_info": {
   "codemirror_mode": {
    "name": "ipython",
    "version": 3
   },
   "file_extension": ".py",
   "mimetype": "text/x-python",
   "name": "python",
   "nbconvert_exporter": "python",
   "pygments_lexer": "ipython3",
   "version": "3.8.10"
  }
 },
 "nbformat": 4,
 "nbformat_minor": 5
}
