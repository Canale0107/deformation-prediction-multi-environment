{
 "cells": [
  {
   "cell_type": "markdown",
   "id": "b8e1be92-85b9-4bfa-b106-fb2bece22fcd",
   "metadata": {},
   "source": [
    "# Single Location"
   ]
  },
  {
   "cell_type": "code",
   "execution_count": 1,
   "id": "70f800f8-0815-4343-b380-81c89163d3c2",
   "metadata": {},
   "outputs": [],
   "source": [
    "%load_ext autoreload\n",
    "%autoreload 2"
   ]
  },
  {
   "cell_type": "code",
   "execution_count": 2,
   "id": "1c52ce86-a3d0-4650-8d89-6c9b457c5f85",
   "metadata": {},
   "outputs": [
    {
     "name": "stderr",
     "output_type": "stream",
     "text": [
      "2024-11-06 14:47:40.772211: I tensorflow/core/platform/cpu_feature_guard.cc:193] This TensorFlow binary is optimized with oneAPI Deep Neural Network Library (oneDNN) to use the following CPU instructions in performance-critical operations:  AVX2 AVX512F AVX512_VNNI FMA\n",
      "To enable them in other operations, rebuild TensorFlow with the appropriate compiler flags.\n",
      "2024-11-06 14:47:40.930071: I tensorflow/core/util/port.cc:104] oneDNN custom operations are on. You may see slightly different numerical results due to floating-point round-off errors from different computation orders. To turn them off, set the environment variable `TF_ENABLE_ONEDNN_OPTS=0`.\n"
     ]
    }
   ],
   "source": [
    "import os\n",
    "from pathlib import Path\n",
    "from datetime import datetime\n",
    "from dataclasses import dataclass\n",
    "from typing import Callable, List\n",
    "\n",
    "import numpy as np\n",
    "import matplotlib.pyplot as plt\n",
    "import tensorflow as tf\n",
    "from tensorflow.keras.losses import BinaryCrossentropy, BinaryFocalCrossentropy\n",
    "from tensorflow.keras.optimizers import Adam\n",
    "from tensorflow.keras.callbacks import TensorBoard, EarlyStopping"
   ]
  },
  {
   "cell_type": "code",
   "execution_count": 55,
   "id": "435227d2-109e-4033-962b-1dcca0d07b4a",
   "metadata": {},
   "outputs": [],
   "source": [
    "from models.handnet_based_model import handnet_based_model\n",
    "from util.training import init_device\n",
    "from util.training.dataloader import split_data_for_single_location\n",
    "from util.training.losses import IoULoss\n",
    "from util.training.metrics import IntersectionOverUnion, MeanPixelAccuracy\n",
    "from util.plot import plot_predictions"
   ]
  },
  {
   "cell_type": "code",
   "execution_count": 4,
   "id": "cdf10cbe-28cd-4778-acf5-adf4e2cbe1fb",
   "metadata": {},
   "outputs": [
    {
     "name": "stdout",
     "output_type": "stream",
     "text": [
      "TensorFlow version: 2.11.0\n"
     ]
    }
   ],
   "source": [
    "print(\"TensorFlow version:\", tf.__version__)"
   ]
  },
  {
   "cell_type": "markdown",
   "id": "b7598609-039b-4eb1-81b8-ab5ca659260d",
   "metadata": {},
   "source": [
    "# 準備\n",
    "---"
   ]
  },
  {
   "cell_type": "markdown",
   "id": "3f829dc1-0e66-412b-b7c2-05fbe9b37b56",
   "metadata": {},
   "source": [
    "## デバイスの初期化"
   ]
  },
  {
   "cell_type": "code",
   "execution_count": 8,
   "id": "3d4ca793-58bd-4042-840f-a8a994d74690",
   "metadata": {},
   "outputs": [
    {
     "name": "stdout",
     "output_type": "stream",
     "text": [
      "Wed Nov  6 14:47:57 2024       \n",
      "+-----------------------------------------------------------------------------+\n",
      "| NVIDIA-SMI 470.74       Driver Version: 470.74       CUDA Version: 11.4     |\n",
      "|-------------------------------+----------------------+----------------------+\n",
      "| GPU  Name        Persistence-M| Bus-Id        Disp.A | Volatile Uncorr. ECC |\n",
      "| Fan  Temp  Perf  Pwr:Usage/Cap|         Memory-Usage | GPU-Util  Compute M. |\n",
      "|                               |                      |               MIG M. |\n",
      "|===============================+======================+======================|\n",
      "|   0  NVIDIA RTX A6000    On   | 00000000:18:00.0 Off |                  Off |\n",
      "| 42%   68C    P2   151W / 300W |  14954MiB / 48682MiB |     36%      Default |\n",
      "|                               |                      |                  N/A |\n",
      "+-------------------------------+----------------------+----------------------+\n",
      "|   1  NVIDIA RTX A6000    On   | 00000000:3B:00.0 Off |                  Off |\n",
      "| 48%   73C    P2   173W / 300W |  14796MiB / 48685MiB |     41%      Default |\n",
      "|                               |                      |                  N/A |\n",
      "+-------------------------------+----------------------+----------------------+\n",
      "|   2  NVIDIA RTX A6000    On   | 00000000:5E:00.0 Off |                  Off |\n",
      "| 30%   42C    P0    82W / 300W |      8MiB / 48685MiB |      0%      Default |\n",
      "|                               |                      |                  N/A |\n",
      "+-------------------------------+----------------------+----------------------+\n",
      "|   3  NVIDIA RTX A6000    On   | 00000000:86:00.0 Off |                  Off |\n",
      "| 30%   34C    P8    22W / 300W |  47481MiB / 48685MiB |      0%      Default |\n",
      "|                               |                      |                  N/A |\n",
      "+-------------------------------+----------------------+----------------------+\n",
      "|   4  NVIDIA RTX A6000    On   | 00000000:D8:00.0 Off |                  Off |\n",
      "| 42%   68C    P2   157W / 300W |  15208MiB / 48685MiB |     38%      Default |\n",
      "|                               |                      |                  N/A |\n",
      "+-------------------------------+----------------------+----------------------+\n",
      "                                                                               \n",
      "+-----------------------------------------------------------------------------+\n",
      "| Processes:                                                                  |\n",
      "|  GPU   GI   CI        PID   Type   Process name                  GPU Memory |\n",
      "|        ID   ID                                                   Usage      |\n",
      "|=============================================================================|\n",
      "+-----------------------------------------------------------------------------+\n"
     ]
    }
   ],
   "source": [
    "!nvidia-smi"
   ]
  },
  {
   "cell_type": "code",
   "execution_count": 9,
   "id": "604eb57a-efe0-4c1a-bb8b-e0f752e4ea90",
   "metadata": {},
   "outputs": [],
   "source": [
    "# 使用するGPUを指定\n",
    "gpu = [2]"
   ]
  },
  {
   "cell_type": "code",
   "execution_count": 10,
   "id": "116fef91-3836-46ad-8c74-24b7064dc5d1",
   "metadata": {},
   "outputs": [
    {
     "name": "stdout",
     "output_type": "stream",
     "text": [
      "Setting random seed: 42\n",
      "Random seed set for Python, NumPy, and TensorFlow.\n",
      "Detected 5 GPU(s): ['/physical_device:GPU:0', '/physical_device:GPU:1', '/physical_device:GPU:2', '/physical_device:GPU:3', '/physical_device:GPU:4']\n",
      "Visible GPU devices (1): ['/physical_device:GPU:2']\n"
     ]
    }
   ],
   "source": [
    "seed = 42\n",
    "init_device(seed, gpu)"
   ]
  },
  {
   "cell_type": "markdown",
   "id": "483c0f37-b915-4b84-8bea-0d7ab33b1325",
   "metadata": {},
   "source": [
    "## ハイパーパラメータクラスの定義"
   ]
  },
  {
   "cell_type": "code",
   "execution_count": 11,
   "id": "33aec5c8-bede-407d-a609-c6da5b4caa36",
   "metadata": {},
   "outputs": [],
   "source": [
    "@dataclass\n",
    "class HyperParameters:\n",
    "    epochs: int\n",
    "    batch_size: int\n",
    "    loss_function: Callable\n",
    "    metrics: List[Callable]\n",
    "    optimizer: Callable"
   ]
  },
  {
   "cell_type": "markdown",
   "id": "c3d6bb41-6cb4-4800-90e8-e6b01fafe394",
   "metadata": {},
   "source": [
    "## モデルの初期化関数の定義"
   ]
  },
  {
   "cell_type": "code",
   "execution_count": 12,
   "id": "a7df09fd-ae16-42f4-a4cd-6cc5d41aa869",
   "metadata": {},
   "outputs": [],
   "source": [
    "def init_model(hparam):\n",
    "    model = handnet_based_model(\n",
    "        input_shape = (10, 52, 2),\n",
    "        num_block1 = 3,\n",
    "        num_block2 = 3,\n",
    "        num_residual_blocks = 14, # 残差ブロックは増やすと重くなる\n",
    "    )\n",
    "    \n",
    "    model.compile(\n",
    "        optimizer = hparam.optimizer,\n",
    "        loss = hparam.loss_function,\n",
    "        metrics = hparam.metrics,\n",
    "    )\n",
    "\n",
    "    return model"
   ]
  },
  {
   "cell_type": "markdown",
   "id": "f4209a36-f353-4ada-b4e1-ce7251058c46",
   "metadata": {},
   "source": [
    "## コールバック準備関数の定義"
   ]
  },
  {
   "cell_type": "code",
   "execution_count": 13,
   "id": "b2fdcf53-c4c3-4568-ad8f-4498e1503892",
   "metadata": {},
   "outputs": [],
   "source": [
    "def prepare_callbacks(hparam, log_dirpath):\n",
    "\n",
    "    callbacks = [\n",
    "        TensorBoard(log_dir=log_dirpath, histogram_freq=1),\n",
    "        EarlyStopping(\n",
    "            monitor='val_iou',\n",
    "            mode='max',\n",
    "            patience=10,\n",
    "            restore_best_weights=True,\n",
    "        )\n",
    "    ]\n",
    "\n",
    "    return callbacks"
   ]
  },
  {
   "cell_type": "markdown",
   "id": "41951eb0-7e4f-4145-8437-101bbc8124d9",
   "metadata": {},
   "source": [
    "## モデルを訓練する関数の定義"
   ]
  },
  {
   "cell_type": "code",
   "execution_count": 14,
   "id": "48791ef5-c6a7-4268-8afa-692f7f2552bb",
   "metadata": {},
   "outputs": [],
   "source": [
    "def train(hparam, dataset, log_dirpath):\n",
    "    print(f'log_dir = {log_dirpath}')\n",
    "\n",
    "    # データの用意\n",
    "    train_data, valid_data, test_data = dataset\n",
    "    X_train, Y_train = train_data\n",
    "    X_valid, Y_valid = valid_data\n",
    "    X_test, Y_test = test_data\n",
    "\n",
    "    # モデルを作成\n",
    "    model = init_model(hparam)\n",
    "\n",
    "    # モデルのフィッティング\n",
    "    history = model.fit(\n",
    "        X_train, Y_train,\n",
    "        validation_data=(X_valid, Y_valid),\n",
    "        epochs = hparam.epochs,\n",
    "        batch_size = hparam.batch_size,\n",
    "        verbose = 1,\n",
    "        callbacks = prepare_callbacks(hparam, log_dirpath)\n",
    "    )\n",
    "\n",
    "    # テストデータでの評価\n",
    "    test_loss, *test_metric = model.evaluate(X_test, Y_test, verbose=2)\n",
    "    print(f\"Test Loss: {test_loss}, Test Metric: {test_metric}\")\n",
    "\n",
    "    return history, model"
   ]
  },
  {
   "cell_type": "markdown",
   "id": "b31fa931-9542-4226-b687-da7d7850f359",
   "metadata": {},
   "source": [
    "# モデルの訓練\n",
    "---"
   ]
  },
  {
   "cell_type": "code",
   "execution_count": 15,
   "id": "0b180faf-03bc-4730-bfc4-59d55d23a68b",
   "metadata": {},
   "outputs": [],
   "source": [
    "def get_log_dirpath(root_log_dirpath, notebook_name):\n",
    "    date = datetime.now().strftime(\"%Y-%m-%d\")\n",
    "    time = datetime.now().strftime(\"%H-%M-%S\")\n",
    "    log_dirpath = os.path.join(\n",
    "        root_log_dirpath, \n",
    "        date,\n",
    "        notebook_name,\n",
    "        time\n",
    "    )\n",
    "\n",
    "    return log_dirpath"
   ]
  },
  {
   "cell_type": "code",
   "execution_count": 90,
   "id": "bff5cc34-c6d8-4288-8158-58d4a95408bc",
   "metadata": {},
   "outputs": [
    {
     "name": "stdout",
     "output_type": "stream",
     "text": [
      "train data shuffled.\n",
      "log_dir = /tf/workspace/deformation-prediction-multi-environment/logs/2024-11-06/tsingle_location_real_and_imag_511/17-14-06\n",
      "Epoch 1/150\n",
      "33/33 [==============================] - 57s 255ms/step - loss: 0.1206 - iou: 0.1192 - mpa: 0.5497 - val_loss: 0.1399 - val_iou: 0.1660 - val_mpa: 0.5794\n",
      "Epoch 2/150\n",
      "33/33 [==============================] - 7s 210ms/step - loss: 0.0834 - iou: 0.3727 - mpa: 0.6907 - val_loss: 0.1188 - val_iou: 0.1958 - val_mpa: 0.5957\n",
      "Epoch 3/150\n",
      "33/33 [==============================] - 7s 202ms/step - loss: 0.0758 - iou: 0.4596 - mpa: 0.7383 - val_loss: 0.1119 - val_iou: 0.1920 - val_mpa: 0.5936\n",
      "Epoch 4/150\n",
      "33/33 [==============================] - 7s 206ms/step - loss: 0.0690 - iou: 0.5286 - mpa: 0.7750 - val_loss: 0.1063 - val_iou: 0.1660 - val_mpa: 0.5809\n",
      "Epoch 5/150\n",
      "33/33 [==============================] - 7s 214ms/step - loss: 0.0656 - iou: 0.5532 - mpa: 0.7866 - val_loss: 0.0989 - val_iou: 0.2445 - val_mpa: 0.6200\n",
      "Epoch 6/150\n",
      "33/33 [==============================] - 7s 205ms/step - loss: 0.0610 - iou: 0.5933 - mpa: 0.8075 - val_loss: 0.0989 - val_iou: 0.2245 - val_mpa: 0.6098\n",
      "Epoch 7/150\n",
      "33/33 [==============================] - 7s 211ms/step - loss: 0.0589 - iou: 0.6068 - mpa: 0.8140 - val_loss: 0.0975 - val_iou: 0.2673 - val_mpa: 0.6331\n",
      "Epoch 8/150\n",
      "33/33 [==============================] - 7s 204ms/step - loss: 0.0538 - iou: 0.6439 - mpa: 0.8329 - val_loss: 0.0998 - val_iou: 0.2576 - val_mpa: 0.6279\n",
      "Epoch 9/150\n",
      "33/33 [==============================] - 7s 203ms/step - loss: 0.0520 - iou: 0.6581 - mpa: 0.8400 - val_loss: 0.1051 - val_iou: 0.2358 - val_mpa: 0.6166\n",
      "Epoch 10/150\n",
      "33/33 [==============================] - 7s 209ms/step - loss: 0.0498 - iou: 0.6773 - mpa: 0.8499 - val_loss: 0.1085 - val_iou: 0.2606 - val_mpa: 0.6274\n",
      "Epoch 11/150\n",
      "33/33 [==============================] - 7s 206ms/step - loss: 0.0497 - iou: 0.6796 - mpa: 0.8504 - val_loss: 0.1064 - val_iou: 0.2739 - val_mpa: 0.6358\n",
      "Epoch 12/150\n",
      "33/33 [==============================] - 7s 206ms/step - loss: 0.0465 - iou: 0.7006 - mpa: 0.8623 - val_loss: 0.1227 - val_iou: 0.3020 - val_mpa: 0.6497\n",
      "Epoch 13/150\n",
      "33/33 [==============================] - 7s 219ms/step - loss: 0.0462 - iou: 0.7034 - mpa: 0.8636 - val_loss: 0.1271 - val_iou: 0.3080 - val_mpa: 0.6509\n",
      "Epoch 14/150\n",
      "33/33 [==============================] - 7s 213ms/step - loss: 0.0460 - iou: 0.7077 - mpa: 0.8651 - val_loss: 0.1280 - val_iou: 0.3308 - val_mpa: 0.6620\n",
      "Epoch 15/150\n",
      "33/33 [==============================] - 7s 219ms/step - loss: 0.0423 - iou: 0.7326 - mpa: 0.8782 - val_loss: 0.1255 - val_iou: 0.3282 - val_mpa: 0.6611\n",
      "Epoch 16/150\n",
      "33/33 [==============================] - 7s 205ms/step - loss: 0.0413 - iou: 0.7391 - mpa: 0.8822 - val_loss: 0.1590 - val_iou: 0.2939 - val_mpa: 0.6407\n",
      "Epoch 17/150\n",
      "33/33 [==============================] - 7s 210ms/step - loss: 0.0398 - iou: 0.7498 - mpa: 0.8874 - val_loss: 0.1298 - val_iou: 0.3543 - val_mpa: 0.6793\n",
      "Epoch 18/150\n",
      "33/33 [==============================] - 7s 209ms/step - loss: 0.0378 - iou: 0.7656 - mpa: 0.8952 - val_loss: 0.1313 - val_iou: 0.3118 - val_mpa: 0.6506\n",
      "Epoch 19/150\n",
      "33/33 [==============================] - 7s 212ms/step - loss: 0.0358 - iou: 0.7796 - mpa: 0.9027 - val_loss: 0.1476 - val_iou: 0.3309 - val_mpa: 0.6659\n",
      "Epoch 20/150\n",
      "33/33 [==============================] - 7s 210ms/step - loss: 0.0364 - iou: 0.7767 - mpa: 0.9004 - val_loss: 0.1610 - val_iou: 0.3440 - val_mpa: 0.6734\n",
      "Epoch 21/150\n",
      "33/33 [==============================] - 7s 206ms/step - loss: 0.0346 - iou: 0.7856 - mpa: 0.9060 - val_loss: 0.1568 - val_iou: 0.3517 - val_mpa: 0.6785\n",
      "Epoch 22/150\n",
      "33/33 [==============================] - 7s 209ms/step - loss: 0.0312 - iou: 0.8094 - mpa: 0.9178 - val_loss: 0.1573 - val_iou: 0.3540 - val_mpa: 0.6772\n",
      "Epoch 23/150\n",
      "33/33 [==============================] - 7s 210ms/step - loss: 0.0308 - iou: 0.8116 - mpa: 0.9186 - val_loss: 0.1793 - val_iou: 0.3307 - val_mpa: 0.6617\n",
      "Epoch 24/150\n",
      "33/33 [==============================] - 7s 208ms/step - loss: 0.0289 - iou: 0.8228 - mpa: 0.9244 - val_loss: 0.1546 - val_iou: 0.3350 - val_mpa: 0.6662\n",
      "Epoch 25/150\n",
      "33/33 [==============================] - 7s 210ms/step - loss: 0.0299 - iou: 0.8178 - mpa: 0.9219 - val_loss: 0.1627 - val_iou: 0.3428 - val_mpa: 0.6693\n",
      "Epoch 26/150\n",
      "33/33 [==============================] - 7s 205ms/step - loss: 0.0290 - iou: 0.8245 - mpa: 0.9248 - val_loss: 0.1647 - val_iou: 0.3010 - val_mpa: 0.6454\n",
      "Epoch 27/150\n",
      "33/33 [==============================] - 7s 207ms/step - loss: 0.0272 - iou: 0.8378 - mpa: 0.9310 - val_loss: 0.1497 - val_iou: 0.3361 - val_mpa: 0.6654\n",
      "57/57 - 2s - loss: 0.1622 - iou: 0.3147 - mpa: 0.6500 - 2s/epoch - 27ms/step\n",
      "Test Loss: 0.1621801108121872, Test Metric: [0.3147102892398834, 0.6500352621078491]\n"
     ]
    }
   ],
   "source": [
    "# データをロード\n",
    "csi_preprocess_id = 'amp_and_phase_mean_norm'\n",
    "location = '511'\n",
    "dataset = split_data_for_single_location(csi_preprocess_id, location, shuffle=True)\n",
    "\n",
    "# ハイパーパラメータの指定\n",
    "hparam = HyperParameters(\n",
    "    epochs = 150,\n",
    "    batch_size = 256,\n",
    "    optimizer = Adam(learning_rate=0.001),\n",
    "    loss_function = BinaryFocalCrossentropy(gamma=2), # BinaryCrossentropy()\n",
    "    metrics = [IntersectionOverUnion(threshold=0.5), MeanPixelAccuracy()],\n",
    ")\n",
    "\n",
    "# ログディレクトリを指定\n",
    "project_dirpath = Path('/tf/workspace/deformation-prediction-multi-environment')\n",
    "root_log_dirpath = project_dirpath/'logs' \n",
    "notebook_name = f'tsingle_location_real_and_imag_{location}'\n",
    "log_dirpath = get_log_dirpath(root_log_dirpath, notebook_name)\n",
    "\n",
    "history, model = train(hparam, dataset, log_dirpath)"
   ]
  },
  {
   "cell_type": "markdown",
   "id": "b2fa3ef0-89f1-4c07-9782-eaf9022dcfb7",
   "metadata": {},
   "source": [
    "# 評価\n",
    "---"
   ]
  },
  {
   "cell_type": "code",
   "execution_count": 91,
   "id": "47987e68-204d-47fb-89fd-99620cd82809",
   "metadata": {},
   "outputs": [],
   "source": [
    "_, valid_data, test_data = dataset\n",
    "X_valid, y_valid = valid_data\n",
    "X_test, y_test = test_data"
   ]
  },
  {
   "cell_type": "markdown",
   "id": "02bd6d6e-63ca-4c5b-a4ce-afff9e31b27c",
   "metadata": {},
   "source": [
    "## 各メトリックの平均値"
   ]
  },
  {
   "cell_type": "code",
   "execution_count": 92,
   "id": "42f81a82-b459-4f0b-a2b2-664ccdc1a54f",
   "metadata": {},
   "outputs": [
    {
     "name": "stdout",
     "output_type": "stream",
     "text": [
      "57/57 [==============================] - 2s 28ms/step - loss: 0.1622 - iou: 0.3147 - mpa: 0.6500\n",
      "loss: 0.1622\n",
      "iou: 0.3147\n",
      "mpa: 0.6500\n"
     ]
    }
   ],
   "source": [
    "results = model.evaluate(X_test, y_test)\n",
    "for name, value in zip(model.metrics_names, results):\n",
    "    print(f\"{name}: {value:.04f}\")"
   ]
  },
  {
   "cell_type": "markdown",
   "id": "2be5b63b-5d68-4b24-9969-ad8dddff7d39",
   "metadata": {},
   "source": [
    "# 予測結果のサンプルをランダムに表示"
   ]
  },
  {
   "cell_type": "code",
   "execution_count": 93,
   "id": "a63d48af-dda9-4dd4-9299-06ffe343471c",
   "metadata": {},
   "outputs": [],
   "source": [
    "metrics = {'IoU': IntersectionOverUnion(threshold=0.5), 'mPA': MeanPixelAccuracy()}"
   ]
  },
  {
   "cell_type": "code",
   "execution_count": 103,
   "id": "6e416ce1-a1ff-46f2-a449-371f2504c3d2",
   "metadata": {},
   "outputs": [
    {
     "name": "stdout",
     "output_type": "stream",
     "text": [
      "57/57 [==============================] - 1s 24ms/step\n"
     ]
    },
    {
     "data": {
      "image/png": "[encoded data removed]",
      "text/plain": [
       "<Figure size 1200x400 with 12 Axes>"
      ]
     },
     "metadata": {},
     "output_type": "display_data"
    }
   ],
   "source": [
    "# 検証セット\n",
    "plot_predictions(model, X_valid, y_valid, n_samples=6, threshold=0.5, seed=42, metrics=metrics)"
   ]
  },
  {
   "cell_type": "code",
   "execution_count": 102,
   "id": "fceb28e6-4ecd-4aa8-90e7-5a748e95c8ac",
   "metadata": {},
   "outputs": [
    {
     "name": "stdout",
     "output_type": "stream",
     "text": [
      "57/57 [==============================] - 1s 23ms/step\n"
     ]
    },
    {
     "data": {
      "image/png": "[encoded data removed]",
      "text/plain": [
       "<Figure size 1200x400 with 12 Axes>"
      ]
     },
     "metadata": {},
     "output_type": "display_data"
    }
   ],
   "source": [
    "# テストセット\n",
    "plot_predictions(model, X_test, y_test, n_samples=6, threshold=0.5, seed=46, metrics=metrics)"
   ]
  },
  {
   "cell_type": "code",
   "execution_count": 96,
   "id": "b41c38a1-cf1e-4ea1-a92a-5715583e0b83",
   "metadata": {},
   "outputs": [
    {
     "name": "stdout",
     "output_type": "stream",
     "text": [
      "57/57 [==============================] - 1s 23ms/step\n"
     ]
    }
   ],
   "source": [
    "y_pred = model.predict(X_test)\n",
    "y_pred = (y_pred >= 0.5).astype(np.float32)"
   ]
  },
  {
   "cell_type": "code",
   "execution_count": 97,
   "id": "087d3f29-f77a-4e2f-9803-7c10943971a1",
   "metadata": {},
   "outputs": [
    {
     "data": {
      "image/png": "[encoded data removed]",
      "text/plain": [
       "<Figure size 1000x500 with 2 Axes>"
      ]
     },
     "metadata": {},
     "output_type": "display_data"
    }
   ],
   "source": [
    "# インデックスと予測を設定\n",
    "i = 1700\n",
    "\n",
    "# 1行2列のサブプロットを作成\n",
    "fig, axes = plt.subplots(1, 2, figsize=(10, 5))\n",
    "\n",
    "# 2つの画像を取得\n",
    "pred_image = y_pred[i]\n",
    "true_image = y_test[i]\n",
    "\n",
    "# 左側に予測結果を表示\n",
    "axes[0].imshow(pred_image, cmap='gray')\n",
    "axes[0].axis('off')\n",
    "axes[0].set_title(\"Prediction\")\n",
    "\n",
    "# 右側に正解ラベルを表示\n",
    "axes[1].imshow(true_image, cmap='gray')\n",
    "axes[1].axis('off')\n",
    "axes[1].set_title(\"Ground Truth\")\n",
    "\n",
    "# レイアウト調整\n",
    "plt.tight_layout()\n",
    "plt.show()"
   ]
  },
  {
   "cell_type": "code",
   "execution_count": 98,
   "id": "dfd48390-72a8-4c9a-9b8e-db023c28ef9a",
   "metadata": {},
   "outputs": [
    {
     "data": {
      "image/png": "[encoded data removed]",
      "text/plain": [
       "<Figure size 640x480 with 1 Axes>"
      ]
     },
     "metadata": {},
     "output_type": "display_data"
    }
   ],
   "source": [
    "# IntersectionとUnionを計算\n",
    "intersection = np.logical_and(pred_image, true_image)  # 共通部分\n",
    "union = np.logical_or(pred_image, true_image)          # 結合部分\n",
    "\n",
    "# RGBイメージを作成\n",
    "visualization = np.zeros((pred_image.shape[0], pred_image.shape[1], 3), dtype=np.float32)\n",
    "\n",
    "# 赤: 予測 (y_pred)、緑: 正解 (y_test)、白: 共通部分\n",
    "visualization[..., 0] = pred_image  # 赤チャンネルに予測を割り当て\n",
    "visualization[..., 1] = true_image  # 緑チャンネルに正解を割り当て\n",
    "visualization[..., 2] = intersection  # 青に共通部分\n",
    "\n",
    "# 表示\n",
    "plt.imshow(visualization)\n",
    "plt.axis('off')\n",
    "plt.title(\"Intersection and Union Visualization\")\n",
    "plt.show()"
   ]
  },
  {
   "cell_type": "code",
   "execution_count": null,
   "id": "9b18ad69-3968-4584-8b92-094cc927b226",
   "metadata": {},
   "outputs": [],
   "source": []
  }
 ],
 "metadata": {
  "kernelspec": {
   "display_name": "Python 3 (ipykernel)",
   "language": "python",
   "name": "python3"
  },
  "language_info": {
   "codemirror_mode": {
    "name": "ipython",
    "version": 3
   },
   "file_extension": ".py",
   "mimetype": "text/x-python",
   "name": "python",
   "nbconvert_exporter": "python",
   "pygments_lexer": "ipython3",
   "version": "3.8.10"
  }
 },
 "nbformat": 4,
 "nbformat_minor": 5
}
