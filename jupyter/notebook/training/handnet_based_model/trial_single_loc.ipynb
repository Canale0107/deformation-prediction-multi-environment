{
 "cells": [
  {
   "cell_type": "markdown",
   "id": "b8e1be92-85b9-4bfa-b106-fb2bece22fcd",
   "metadata": {},
   "source": [
    "# Single Location"
   ]
  },
  {
   "cell_type": "code",
   "execution_count": 1,
   "id": "70f800f8-0815-4343-b380-81c89163d3c2",
   "metadata": {},
   "outputs": [],
   "source": [
    "%load_ext autoreload\n",
    "%autoreload 2"
   ]
  },
  {
   "cell_type": "code",
   "execution_count": 83,
   "id": "1c52ce86-a3d0-4650-8d89-6c9b457c5f85",
   "metadata": {},
   "outputs": [],
   "source": [
    "import os\n",
    "from pathlib import Path\n",
    "from datetime import datetime\n",
    "from dataclasses import dataclass\n",
    "from typing import Callable, List\n",
    "\n",
    "import numpy as np\n",
    "import matplotlib.pyplot as plt\n",
    "import tensorflow as tf\n",
    "from tensorflow.keras.losses import BinaryCrossentropy, BinaryFocalCrossentropy\n",
    "from tensorflow.keras.optimizers import Adam\n",
    "from tensorflow.keras.callbacks import TensorBoard, EarlyStopping"
   ]
  },
  {
   "cell_type": "code",
   "execution_count": 5,
   "id": "435227d2-109e-4033-962b-1dcca0d07b4a",
   "metadata": {},
   "outputs": [],
   "source": [
    "from models.handnet_based_model import handnet_based_model\n",
    "from util.training import init_device\n",
    "from util.training.dataloader import split_data_for_single_location\n",
    "from util.training.losses import IoULoss\n",
    "from util.training.metrics import IntersectionOverUnion, MeanPixelAccuracy"
   ]
  },
  {
   "cell_type": "code",
   "execution_count": 6,
   "id": "cdf10cbe-28cd-4778-acf5-adf4e2cbe1fb",
   "metadata": {},
   "outputs": [
    {
     "name": "stdout",
     "output_type": "stream",
     "text": [
      "TensorFlow version: 2.11.0\n"
     ]
    }
   ],
   "source": [
    "print(\"TensorFlow version:\", tf.__version__)"
   ]
  },
  {
   "cell_type": "markdown",
   "id": "b7598609-039b-4eb1-81b8-ab5ca659260d",
   "metadata": {},
   "source": [
    "# 準備\n",
    "---"
   ]
  },
  {
   "cell_type": "markdown",
   "id": "3f829dc1-0e66-412b-b7c2-05fbe9b37b56",
   "metadata": {},
   "source": [
    "## デバイスの初期化"
   ]
  },
  {
   "cell_type": "code",
   "execution_count": 7,
   "id": "3d4ca793-58bd-4042-840f-a8a994d74690",
   "metadata": {},
   "outputs": [
    {
     "name": "stdout",
     "output_type": "stream",
     "text": [
      "Tue Nov  5 13:11:59 2024       \n",
      "+-----------------------------------------------------------------------------+\n",
      "| NVIDIA-SMI 470.74       Driver Version: 470.74       CUDA Version: 11.4     |\n",
      "|-------------------------------+----------------------+----------------------+\n",
      "| GPU  Name        Persistence-M| Bus-Id        Disp.A | Volatile Uncorr. ECC |\n",
      "| Fan  Temp  Perf  Pwr:Usage/Cap|         Memory-Usage | GPU-Util  Compute M. |\n",
      "|                               |                      |               MIG M. |\n",
      "|===============================+======================+======================|\n",
      "|   0  NVIDIA RTX A6000    On   | 00000000:18:00.0 Off |                  Off |\n",
      "| 44%   68C    P2   205W / 300W |   5772MiB / 48682MiB |     77%      Default |\n",
      "|                               |                      |                  N/A |\n",
      "+-------------------------------+----------------------+----------------------+\n",
      "|   1  NVIDIA RTX A6000    On   | 00000000:3B:00.0 Off |                  Off |\n",
      "| 50%   72C    P2   191W / 300W |   4854MiB / 48685MiB |     66%      Default |\n",
      "|                               |                      |                  N/A |\n",
      "+-------------------------------+----------------------+----------------------+\n",
      "|   2  NVIDIA RTX A6000    On   | 00000000:5E:00.0 Off |                  Off |\n",
      "| 30%   42C    P8    19W / 300W |      8MiB / 48685MiB |      0%      Default |\n",
      "|                               |                      |                  N/A |\n",
      "+-------------------------------+----------------------+----------------------+\n",
      "|   3  NVIDIA RTX A6000    On   | 00000000:86:00.0 Off |                  Off |\n",
      "| 30%   37C    P8    22W / 300W |  47787MiB / 48685MiB |      0%      Default |\n",
      "|                               |                      |                  N/A |\n",
      "+-------------------------------+----------------------+----------------------+\n",
      "|   4  NVIDIA RTX A6000    On   | 00000000:D8:00.0 Off |                  Off |\n",
      "| 44%   67C    P2   190W / 300W |   4210MiB / 48685MiB |     78%      Default |\n",
      "|                               |                      |                  N/A |\n",
      "+-------------------------------+----------------------+----------------------+\n",
      "                                                                               \n",
      "+-----------------------------------------------------------------------------+\n",
      "| Processes:                                                                  |\n",
      "|  GPU   GI   CI        PID   Type   Process name                  GPU Memory |\n",
      "|        ID   ID                                                   Usage      |\n",
      "|=============================================================================|\n",
      "+-----------------------------------------------------------------------------+\n"
     ]
    }
   ],
   "source": [
    "!nvidia-smi"
   ]
  },
  {
   "cell_type": "code",
   "execution_count": 8,
   "id": "604eb57a-efe0-4c1a-bb8b-e0f752e4ea90",
   "metadata": {},
   "outputs": [],
   "source": [
    "# 使用するGPUを指定\n",
    "gpu = [2]"
   ]
  },
  {
   "cell_type": "code",
   "execution_count": 9,
   "id": "116fef91-3836-46ad-8c74-24b7064dc5d1",
   "metadata": {},
   "outputs": [
    {
     "name": "stdout",
     "output_type": "stream",
     "text": [
      "Setting random seed: 42\n",
      "Random seed set for Python, NumPy, and TensorFlow.\n",
      "Detected 5 GPU(s): ['/physical_device:GPU:0', '/physical_device:GPU:1', '/physical_device:GPU:2', '/physical_device:GPU:3', '/physical_device:GPU:4']\n",
      "Visible GPU devices (1): ['/physical_device:GPU:2']\n"
     ]
    }
   ],
   "source": [
    "seed = 42\n",
    "init_device(seed, gpu)"
   ]
  },
  {
   "cell_type": "markdown",
   "id": "483c0f37-b915-4b84-8bea-0d7ab33b1325",
   "metadata": {},
   "source": [
    "## ハイパーパラメータクラスの定義"
   ]
  },
  {
   "cell_type": "code",
   "execution_count": 10,
   "id": "33aec5c8-bede-407d-a609-c6da5b4caa36",
   "metadata": {},
   "outputs": [],
   "source": [
    "@dataclass\n",
    "class HyperParameters:\n",
    "    epochs: int\n",
    "    batch_size: int\n",
    "    loss_function: Callable\n",
    "    metrics: List[Callable]\n",
    "    optimizer: Callable"
   ]
  },
  {
   "cell_type": "markdown",
   "id": "c3d6bb41-6cb4-4800-90e8-e6b01fafe394",
   "metadata": {},
   "source": [
    "## モデルの初期化関数の定義"
   ]
  },
  {
   "cell_type": "code",
   "execution_count": 11,
   "id": "a7df09fd-ae16-42f4-a4cd-6cc5d41aa869",
   "metadata": {},
   "outputs": [],
   "source": [
    "def init_model(hparam):\n",
    "    model = handnet_based_model(\n",
    "        input_shape = (10, 52, 2),\n",
    "        num_block1 = 3,\n",
    "        num_block2 = 3,\n",
    "        num_residual_blocks = 14, # 残差ブロックは増やすと重くなる\n",
    "    )\n",
    "    \n",
    "    model.compile(\n",
    "        optimizer = hparam.optimizer,\n",
    "        loss = hparam.loss_function,\n",
    "        metrics = hparam.metrics,\n",
    "    )\n",
    "\n",
    "    return model"
   ]
  },
  {
   "cell_type": "markdown",
   "id": "f4209a36-f353-4ada-b4e1-ce7251058c46",
   "metadata": {},
   "source": [
    "## コールバック準備関数の定義"
   ]
  },
  {
   "cell_type": "code",
   "execution_count": 153,
   "id": "b2fdcf53-c4c3-4568-ad8f-4498e1503892",
   "metadata": {},
   "outputs": [],
   "source": [
    "def prepare_callbacks(hparam, log_dirpath):\n",
    "\n",
    "    callbacks = [\n",
    "        TensorBoard(log_dir=log_dirpath, histogram_freq=1),\n",
    "        EarlyStopping(\n",
    "            monitor='val_iou',\n",
    "            mode='max',\n",
    "            patience=10,\n",
    "            restore_best_weights=True,\n",
    "        )\n",
    "    ]\n",
    "\n",
    "    return callbacks"
   ]
  },
  {
   "cell_type": "markdown",
   "id": "41951eb0-7e4f-4145-8437-101bbc8124d9",
   "metadata": {},
   "source": [
    "## モデルを訓練する関数の定義"
   ]
  },
  {
   "cell_type": "code",
   "execution_count": 85,
   "id": "48791ef5-c6a7-4268-8afa-692f7f2552bb",
   "metadata": {},
   "outputs": [],
   "source": [
    "def train(hparam, dataset, log_dirpath):\n",
    "    print(f'log_dir = {log_dirpath}')\n",
    "\n",
    "    # データの用意\n",
    "    train_data, valid_data, test_data = dataset\n",
    "    X_train, Y_train = train_data\n",
    "    X_valid, Y_valid = valid_data\n",
    "    X_test, Y_test = test_data\n",
    "\n",
    "    # モデルを作成\n",
    "    model = init_model(hparam)\n",
    "\n",
    "    # モデルのフィッティング\n",
    "    history = model.fit(\n",
    "        X_train, Y_train,\n",
    "        validation_data=(X_valid, Y_valid),\n",
    "        epochs = hparam.epochs,\n",
    "        batch_size = hparam.batch_size,\n",
    "        verbose = 1,\n",
    "        callbacks = prepare_callbacks(hparam, log_dirpath)\n",
    "    )\n",
    "\n",
    "    # テストデータでの評価\n",
    "    test_loss, *test_metric = model.evaluate(X_test, Y_test, verbose=2)\n",
    "    print(f\"Test Loss: {test_loss}, Test Metric: {test_metric}\")\n",
    "\n",
    "    return history, model"
   ]
  },
  {
   "cell_type": "markdown",
   "id": "b31fa931-9542-4226-b687-da7d7850f359",
   "metadata": {},
   "source": [
    "# モデルの訓練\n",
    "---"
   ]
  },
  {
   "cell_type": "code",
   "execution_count": 86,
   "id": "0b180faf-03bc-4730-bfc4-59d55d23a68b",
   "metadata": {},
   "outputs": [],
   "source": [
    "def get_log_dirpath(root_log_dirpath, notebook_name):\n",
    "    date = datetime.now().strftime(\"%Y-%m-%d\")\n",
    "    time = datetime.now().strftime(\"%H-%M-%S\")\n",
    "    log_dirpath = os.path.join(\n",
    "        root_log_dirpath, \n",
    "        date,\n",
    "        notebook_name,\n",
    "        time\n",
    "    )\n",
    "\n",
    "    return log_dirpath"
   ]
  },
  {
   "cell_type": "code",
   "execution_count": 162,
   "id": "bff5cc34-c6d8-4288-8158-58d4a95408bc",
   "metadata": {
    "scrolled": true
   },
   "outputs": [
    {
     "name": "stdout",
     "output_type": "stream",
     "text": [
      "train data shuffled.\n",
      "log_dir = /tf/workspace/deformation-prediction-multi-environment/logs/2024-11-05/tsingle_location_real_and_imag_511/14-31-17\n",
      "Epoch 1/150\n",
      "33/33 [==============================] - 58s 257ms/step - loss: 0.8041 - iou: 0.3148 - mpa: 0.7221 - val_loss: 0.8059 - val_iou: 0.2980 - val_mpa: 0.7096\n",
      "Epoch 2/150\n",
      "33/33 [==============================] - 7s 204ms/step - loss: 0.7955 - iou: 0.3583 - mpa: 0.7659 - val_loss: 0.7998 - val_iou: 0.3363 - val_mpa: 0.7441\n",
      "Epoch 3/150\n",
      "33/33 [==============================] - 6s 198ms/step - loss: 0.7947 - iou: 0.3674 - mpa: 0.7697 - val_loss: 0.7973 - val_iou: 0.3389 - val_mpa: 0.7427\n",
      "Epoch 4/150\n",
      "33/33 [==============================] - 6s 196ms/step - loss: 0.7943 - iou: 0.3713 - mpa: 0.7714 - val_loss: 0.7963 - val_iou: 0.3393 - val_mpa: 0.7409\n",
      "Epoch 5/150\n",
      "33/33 [==============================] - 6s 199ms/step - loss: 0.7940 - iou: 0.3747 - mpa: 0.7737 - val_loss: 0.7965 - val_iou: 0.3927 - val_mpa: 0.7479\n",
      "Epoch 6/150\n",
      "33/33 [==============================] - 6s 194ms/step - loss: 0.7934 - iou: 0.3809 - mpa: 0.7785 - val_loss: 0.7979 - val_iou: 0.3936 - val_mpa: 0.7358\n",
      "Epoch 7/150\n",
      "33/33 [==============================] - 6s 196ms/step - loss: 0.7920 - iou: 0.3996 - mpa: 0.7902 - val_loss: 0.8022 - val_iou: 0.3318 - val_mpa: 0.7078\n",
      "Epoch 8/150\n",
      "33/33 [==============================] - 6s 193ms/step - loss: 0.7905 - iou: 0.4256 - mpa: 0.8035 - val_loss: 0.7989 - val_iou: 0.3111 - val_mpa: 0.7142\n",
      "Epoch 9/150\n",
      "33/33 [==============================] - 6s 195ms/step - loss: 0.7890 - iou: 0.4475 - mpa: 0.8148 - val_loss: 0.8041 - val_iou: 0.2697 - val_mpa: 0.6605\n",
      "Epoch 10/150\n",
      "33/33 [==============================] - 6s 197ms/step - loss: 0.7882 - iou: 0.4621 - mpa: 0.8214 - val_loss: 0.8001 - val_iou: 0.3410 - val_mpa: 0.7172\n",
      "Epoch 11/150\n",
      "33/33 [==============================] - 6s 195ms/step - loss: 0.7875 - iou: 0.4745 - mpa: 0.8274 - val_loss: 0.8094 - val_iou: 0.3000 - val_mpa: 0.6583\n",
      "Epoch 12/150\n",
      "33/33 [==============================] - 6s 195ms/step - loss: 0.7867 - iou: 0.4848 - mpa: 0.8327 - val_loss: 0.8138 - val_iou: 0.2589 - val_mpa: 0.6253\n",
      "Epoch 13/150\n",
      "33/33 [==============================] - 6s 197ms/step - loss: 0.7858 - iou: 0.5008 - mpa: 0.8403 - val_loss: 0.8061 - val_iou: 0.3461 - val_mpa: 0.6816\n",
      "Epoch 14/150\n",
      "33/33 [==============================] - 6s 198ms/step - loss: 0.7857 - iou: 0.5028 - mpa: 0.8404 - val_loss: 0.8133 - val_iou: 0.2630 - val_mpa: 0.6249\n",
      "Epoch 15/150\n",
      "33/33 [==============================] - 6s 198ms/step - loss: 0.7850 - iou: 0.5154 - mpa: 0.8456 - val_loss: 0.8066 - val_iou: 0.3279 - val_mpa: 0.6771\n",
      "Epoch 16/150\n",
      "33/33 [==============================] - 6s 198ms/step - loss: 0.7846 - iou: 0.5258 - mpa: 0.8491 - val_loss: 0.8095 - val_iou: 0.2940 - val_mpa: 0.6545\n",
      "57/57 - 2s - loss: 0.7947 - iou: 0.3761 - mpa: 0.7181 - 2s/epoch - 27ms/step\n",
      "Test Loss: 0.7946745753288269, Test Metric: [0.3760690987110138, 0.718144416809082]\n"
     ]
    }
   ],
   "source": [
    "# データをロード\n",
    "csi_preprocess_id = 'real_and_imag'\n",
    "location = '511'\n",
    "dataset = split_data_for_single_location(csi_preprocess_id, location, shuffle=True)\n",
    "\n",
    "# ハイパーパラメータの指定\n",
    "hparam = HyperParameters(\n",
    "    epochs = 150,\n",
    "    batch_size = 256,\n",
    "    optimizer = Adam(learning_rate=0.001),\n",
    "    loss_function = BinaryFocalCrossentropy(gamma=2), # BinaryCrossentropy()\n",
    "    metrics = [IntersectionOverUnion(threshold=0.5), MeanPixelAccuracy()],\n",
    ")\n",
    "\n",
    "# ログディレクトリを指定\n",
    "project_dirpath = Path('/tf/workspace/deformation-prediction-multi-environment')\n",
    "root_log_dirpath = project_dirpath/'logs' \n",
    "notebook_name = f'tsingle_location_real_and_imag_{location}'\n",
    "log_dirpath = get_log_dirpath(root_log_dirpath, notebook_name)\n",
    "\n",
    "history, model = train(hparam, dataset, log_dirpath)"
   ]
  },
  {
   "cell_type": "markdown",
   "id": "b2fa3ef0-89f1-4c07-9782-eaf9022dcfb7",
   "metadata": {},
   "source": [
    "# 評価\n",
    "---"
   ]
  },
  {
   "cell_type": "code",
   "execution_count": 163,
   "id": "47987e68-204d-47fb-89fd-99620cd82809",
   "metadata": {},
   "outputs": [],
   "source": [
    "_, valid_data, test_data = dataset\n",
    "X_valid, Y_valid = valid_data\n",
    "X_test, Y_test = test_data"
   ]
  },
  {
   "cell_type": "markdown",
   "id": "02bd6d6e-63ca-4c5b-a4ce-afff9e31b27c",
   "metadata": {},
   "source": [
    "## 各メトリックの平均値"
   ]
  },
  {
   "cell_type": "code",
   "execution_count": 164,
   "id": "42f81a82-b459-4f0b-a2b2-664ccdc1a54f",
   "metadata": {},
   "outputs": [
    {
     "name": "stdout",
     "output_type": "stream",
     "text": [
      "57/57 [==============================] - 2s 32ms/step - loss: 0.7947 - iou: 0.3761 - mpa: 0.7181\n",
      "loss: 0.7947\n",
      "iou: 0.3761\n",
      "mpa: 0.7181\n"
     ]
    }
   ],
   "source": [
    "results = model.evaluate(X_test, Y_test)\n",
    "for name, value in zip(model.metrics_names, results):\n",
    "    print(f\"{name}: {value:.04f}\")"
   ]
  },
  {
   "cell_type": "markdown",
   "id": "2be5b63b-5d68-4b24-9969-ad8dddff7d39",
   "metadata": {},
   "source": [
    "# 予測結果のサンプルをランダムに表示"
   ]
  },
  {
   "cell_type": "code",
   "execution_count": 165,
   "id": "8a77b5a7-8723-42bb-810d-5b67f410b17a",
   "metadata": {},
   "outputs": [],
   "source": [
    "from util.plot import plot_predictions"
   ]
  },
  {
   "cell_type": "code",
   "execution_count": 166,
   "id": "a63d48af-dda9-4dd4-9299-06ffe343471c",
   "metadata": {},
   "outputs": [],
   "source": [
    "metrics = {'IoU': IntersectionOverUnion(threshold=0.5), 'mPA': MeanPixelAccuracy()}"
   ]
  },
  {
   "cell_type": "code",
   "execution_count": 167,
   "id": "6e416ce1-a1ff-46f2-a449-371f2504c3d2",
   "metadata": {},
   "outputs": [
    {
     "name": "stdout",
     "output_type": "stream",
     "text": [
      "57/57 [==============================] - 3s 29ms/step\n"
     ]
    },
    {
     "data": {
      "image/png": "[encoded data removed]",
      "text/plain": [
       "<Figure size 1200x400 with 12 Axes>"
      ]
     },
     "metadata": {},
     "output_type": "display_data"
    }
   ],
   "source": [
    "# 検証セット\n",
    "plot_predictions(model, X_valid, Y_valid, n_samples=6, threshold=0.5, seed=42, metrics=metrics)"
   ]
  },
  {
   "cell_type": "code",
   "execution_count": 170,
   "id": "fceb28e6-4ecd-4aa8-90e7-5a748e95c8ac",
   "metadata": {},
   "outputs": [
    {
     "name": "stdout",
     "output_type": "stream",
     "text": [
      "57/57 [==============================] - 1s 24ms/step\n"
     ]
    },
    {
     "data": {
      "image/png": "[encoded data removed]",
      "text/plain": [
       "<Figure size 1200x400 with 12 Axes>"
      ]
     },
     "metadata": {},
     "output_type": "display_data"
    }
   ],
   "source": [
    "# テストセット\n",
    "plot_predictions(model, X_test, Y_test, n_samples=6, threshold=0.5, seed=42, metrics=metrics)"
   ]
  },
  {
   "cell_type": "code",
   "execution_count": 161,
   "id": "797a3ef1-940d-46f6-8bb4-7279bb527ea5",
   "metadata": {},
   "outputs": [
    {
     "name": "stdout",
     "output_type": "stream",
     "text": [
      "57/57 [==============================] - 1s 23ms/step\n"
     ]
    },
    {
     "data": {
      "text/plain": [
       "(-0.5, 27.5, 27.5, -0.5)"
      ]
     },
     "execution_count": 161,
     "metadata": {},
     "output_type": "execute_result"
    },
    {
     "data": {
      "image/png": "[encoded data removed]",
      "text/plain": [
       "<Figure size 640x480 with 1 Axes>"
      ]
     },
     "metadata": {},
     "output_type": "display_data"
    }
   ],
   "source": [
    "i = 1700\n",
    "Y_pred = model.predict(X_test)\n",
    "Y_pred = (Y_pred >= 0.5).astype(np.float32)\n",
    "plt.imshow(Y_pred[i], cmap='gray')\n",
    "plt.axis('off')"
   ]
  },
  {
   "cell_type": "code",
   "execution_count": null,
   "id": "dfd48390-72a8-4c9a-9b8e-db023c28ef9a",
   "metadata": {},
   "outputs": [],
   "source": []
  },
  {
   "cell_type": "code",
   "execution_count": null,
   "id": "9b18ad69-3968-4584-8b92-094cc927b226",
   "metadata": {},
   "outputs": [],
   "source": []
  }
 ],
 "metadata": {
  "kernelspec": {
   "display_name": "Python 3 (ipykernel)",
   "language": "python",
   "name": "python3"
  },
  "language_info": {
   "codemirror_mode": {
    "name": "ipython",
    "version": 3
   },
   "file_extension": ".py",
   "mimetype": "text/x-python",
   "name": "python",
   "nbconvert_exporter": "python",
   "pygments_lexer": "ipython3",
   "version": "3.8.10"
  }
 },
 "nbformat": 4,
 "nbformat_minor": 5
}
