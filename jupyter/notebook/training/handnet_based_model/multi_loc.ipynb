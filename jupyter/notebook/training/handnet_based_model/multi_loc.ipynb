{
 "cells": [
  {
   "cell_type": "code",
   "execution_count": 1,
   "id": "f71fe3f6-8efd-49ab-8177-e7bd32e23de7",
   "metadata": {},
   "outputs": [],
   "source": [
    "%load_ext autoreload\n",
    "%autoreload 2"
   ]
  },
  {
   "cell_type": "code",
   "execution_count": 27,
   "id": "36ba78df-db63-482e-b6f3-5f849a468dcf",
   "metadata": {},
   "outputs": [],
   "source": [
    "import os\n",
    "import csv\n",
    "from itertools import combinations\n",
    "from pathlib import Path\n",
    "from datetime import datetime\n",
    "import pickle\n",
    "import json\n",
    "from dataclasses import dataclass\n",
    "from typing import Callable, List\n",
    "\n",
    "import numpy as np\n",
    "import matplotlib.pyplot as plt\n",
    "import tensorflow as tf\n",
    "from tensorflow.keras.losses import BinaryCrossentropy, BinaryFocalCrossentropy\n",
    "from tensorflow.keras.optimizers import Adam\n",
    "from tensorflow.keras.callbacks import TensorBoard, EarlyStopping"
   ]
  },
  {
   "cell_type": "code",
   "execution_count": 3,
   "id": "b2f6625f-f52e-4bb8-86d2-5b0b160c6ba2",
   "metadata": {},
   "outputs": [],
   "source": [
    "from models.handnet_based_model import handnet_based_model\n",
    "from util.training import init_device\n",
    "from util.training.dataloader import split_data_for_multiple_location, concat_and_shuffle\n",
    "from util.training.metrics import IntersectionOverUnion, MeanPixelAccuracy"
   ]
  },
  {
   "cell_type": "code",
   "execution_count": 4,
   "id": "518c620a-251b-4260-85b5-8a2968353b0d",
   "metadata": {},
   "outputs": [],
   "source": [
    "PROJECT_DIRPATH = Path('/tf/workspace/deformation-prediction-multi-environment')\n",
    "NAS_DIRPATH = Path('/tf/nas/')"
   ]
  },
  {
   "cell_type": "code",
   "execution_count": 5,
   "id": "8867fbca-db2f-441e-93be-0de5837bb0d4",
   "metadata": {},
   "outputs": [
    {
     "name": "stdout",
     "output_type": "stream",
     "text": [
      "TensorFlow version: 2.11.0\n"
     ]
    }
   ],
   "source": [
    "print(\"TensorFlow version:\", tf.__version__)"
   ]
  },
  {
   "cell_type": "markdown",
   "id": "b89e361a-eca3-423d-9412-b93d0aa31c5f",
   "metadata": {},
   "source": [
    "# 準備\n",
    "---"
   ]
  },
  {
   "cell_type": "markdown",
   "id": "121b6a4c-745d-4636-b970-d90184c9d617",
   "metadata": {},
   "source": [
    "## デバイスの初期化"
   ]
  },
  {
   "cell_type": "code",
   "execution_count": 9,
   "id": "47d25edb-e52e-4380-9f9d-b6c83ce4af3e",
   "metadata": {},
   "outputs": [
    {
     "name": "stdout",
     "output_type": "stream",
     "text": [
      "Fri Nov 22 15:51:58 2024       \n",
      "+-----------------------------------------------------------------------------+\n",
      "| NVIDIA-SMI 470.74       Driver Version: 470.74       CUDA Version: 11.4     |\n",
      "|-------------------------------+----------------------+----------------------+\n",
      "| GPU  Name        Persistence-M| Bus-Id        Disp.A | Volatile Uncorr. ECC |\n",
      "| Fan  Temp  Perf  Pwr:Usage/Cap|         Memory-Usage | GPU-Util  Compute M. |\n",
      "|                               |                      |               MIG M. |\n",
      "|===============================+======================+======================|\n",
      "|   0  NVIDIA RTX A6000    On   | 00000000:18:00.0 Off |                  Off |\n",
      "| 30%   29C    P8    17W / 300W |     28MiB / 48682MiB |      0%      Default |\n",
      "|                               |                      |                  N/A |\n",
      "+-------------------------------+----------------------+----------------------+\n",
      "|   1  NVIDIA RTX A6000    On   | 00000000:3B:00.0 Off |                  Off |\n",
      "| 30%   33C    P8    18W / 300W |      8MiB / 48685MiB |      0%      Default |\n",
      "|                               |                      |                  N/A |\n",
      "+-------------------------------+----------------------+----------------------+\n",
      "|   2  NVIDIA RTX A6000    On   | 00000000:5E:00.0 Off |                  Off |\n",
      "| 30%   34C    P5    23W / 300W |      8MiB / 48685MiB |      0%      Default |\n",
      "|                               |                      |                  N/A |\n",
      "+-------------------------------+----------------------+----------------------+\n",
      "|   3  NVIDIA RTX A6000    On   | 00000000:86:00.0 Off |                  Off |\n",
      "| 30%   32C    P8    22W / 300W |   1319MiB / 48685MiB |      0%      Default |\n",
      "|                               |                      |                  N/A |\n",
      "+-------------------------------+----------------------+----------------------+\n",
      "|   4  NVIDIA RTX A6000    On   | 00000000:D8:00.0 Off |                  Off |\n",
      "| 30%   30C    P8    21W / 300W |      8MiB / 48685MiB |      0%      Default |\n",
      "|                               |                      |                  N/A |\n",
      "+-------------------------------+----------------------+----------------------+\n",
      "                                                                               \n",
      "+-----------------------------------------------------------------------------+\n",
      "| Processes:                                                                  |\n",
      "|  GPU   GI   CI        PID   Type   Process name                  GPU Memory |\n",
      "|        ID   ID                                                   Usage      |\n",
      "|=============================================================================|\n",
      "+-----------------------------------------------------------------------------+\n"
     ]
    }
   ],
   "source": [
    "!nvidia-smi"
   ]
  },
  {
   "cell_type": "code",
   "execution_count": 10,
   "id": "e5ddc0d0-91b9-41a3-b954-739b5ca33f83",
   "metadata": {},
   "outputs": [],
   "source": [
    "# 使用するGPUを指定\n",
    "gpu = [2]"
   ]
  },
  {
   "cell_type": "code",
   "execution_count": 11,
   "id": "9f8a5f9f-26ae-4634-be31-a28f80606628",
   "metadata": {},
   "outputs": [
    {
     "name": "stdout",
     "output_type": "stream",
     "text": [
      "Detected 5 GPU(s): ['/physical_device:GPU:0', '/physical_device:GPU:1', '/physical_device:GPU:2', '/physical_device:GPU:3', '/physical_device:GPU:4']\n",
      "Visible GPU devices (1): ['/physical_device:GPU:2']\n"
     ]
    }
   ],
   "source": [
    "seed = None\n",
    "init_device(seed, gpu)"
   ]
  },
  {
   "cell_type": "markdown",
   "id": "4fbf27ed-eaf4-44d9-8a9a-bf88f54102f8",
   "metadata": {},
   "source": [
    "## ハイパーパラメータクラスの定義"
   ]
  },
  {
   "cell_type": "code",
   "execution_count": 12,
   "id": "ef97ea0b-558f-4403-8466-dcf44e2927f2",
   "metadata": {},
   "outputs": [],
   "source": [
    "@dataclass\n",
    "class HyperParameters:\n",
    "    epochs: int\n",
    "    batch_size: int\n",
    "    loss_function: Callable\n",
    "    metrics: List[Callable]\n",
    "    optimizer: Callable"
   ]
  },
  {
   "cell_type": "markdown",
   "id": "20121642-58b6-4c74-a77f-db5cbf47bd57",
   "metadata": {},
   "source": [
    "## モデルの初期化関数の定義"
   ]
  },
  {
   "cell_type": "code",
   "execution_count": 13,
   "id": "f9921449-fc79-4590-a6a3-238866015bd2",
   "metadata": {},
   "outputs": [],
   "source": [
    "def init_model(hparam):\n",
    "    model = handnet_based_model(\n",
    "        input_shape = (10, 52, 2),\n",
    "        num_block1 = 3,\n",
    "        num_block2 = 3,\n",
    "        num_residual_blocks = 14, # 残差ブロックは増やすと重くなる\n",
    "    )\n",
    "    \n",
    "    model.compile(\n",
    "        optimizer = hparam.optimizer,\n",
    "        loss = hparam.loss_function,\n",
    "        metrics = hparam.metrics,\n",
    "    )\n",
    "\n",
    "    return model"
   ]
  },
  {
   "cell_type": "markdown",
   "id": "12cdf92a-9609-4e67-8d36-9fa5eea5d201",
   "metadata": {},
   "source": [
    "## コールバック準備関数の定義"
   ]
  },
  {
   "cell_type": "code",
   "execution_count": 14,
   "id": "3d10788f-dc56-4fae-8a2e-e2feba6293f2",
   "metadata": {},
   "outputs": [],
   "source": [
    "def prepare_callbacks(hparam, log_dirpath):\n",
    "\n",
    "    callbacks = [\n",
    "        TensorBoard(log_dir=log_dirpath, histogram_freq=1),\n",
    "        EarlyStopping(\n",
    "            monitor='val_iou',\n",
    "            mode='max',\n",
    "            patience=10,\n",
    "            verbose=1,\n",
    "            restore_best_weights=True,\n",
    "        )\n",
    "    ]\n",
    "\n",
    "    return callbacks"
   ]
  },
  {
   "cell_type": "markdown",
   "id": "29773fb9-2bce-440b-8ed6-dac6a760aca7",
   "metadata": {},
   "source": [
    "## モデルを訓練する関数の定義"
   ]
  },
  {
   "cell_type": "code",
   "execution_count": 24,
   "id": "953ac8e0-71e2-47de-8d5c-95a294261e03",
   "metadata": {},
   "outputs": [],
   "source": [
    "def train(hparam, train_data, valid_data, log_dirpath):\n",
    "    # データの用意\n",
    "    X_train, Y_train = train_data\n",
    "    X_valid, Y_valid = valid_data\n",
    "\n",
    "    # モデルを作成\n",
    "    model = init_model(hparam)\n",
    "\n",
    "    # モデルのフィッティング\n",
    "    history = model.fit(\n",
    "        X_train, Y_train,\n",
    "        validation_data=(X_valid, Y_valid),\n",
    "        epochs = hparam.epochs,\n",
    "        batch_size = hparam.batch_size,\n",
    "        verbose = 1,\n",
    "        callbacks = prepare_callbacks(hparam, log_dirpath)\n",
    "    )\n",
    "\n",
    "    return history, model"
   ]
  },
  {
   "cell_type": "markdown",
   "id": "11c02629-d420-4276-b099-b45bc5914614",
   "metadata": {},
   "source": [
    "# モデルの訓練\n",
    "---"
   ]
  },
  {
   "cell_type": "code",
   "execution_count": 16,
   "id": "2011042b-0441-4192-be84-d7655d9f4089",
   "metadata": {},
   "outputs": [],
   "source": [
    "def save_history(save_dirpath, history):\n",
    "    history_filepath = save_dirpath/'history.pkl'\n",
    "    with open(history_filepath, 'wb') as file:\n",
    "        pickle.dump(history, file)\n",
    "\n",
    "def save_model(save_dirpath, model):\n",
    "    # モデルのアーキテクチャを保存\n",
    "    model_json = model.to_json()\n",
    "    model_json_filepath = save_dirpath/'model_architecture.json'\n",
    "    with open(model_json_filepath, 'w') as json_file:\n",
    "        json_file.write(model_json)\n",
    "\n",
    "    # モデルを保存\n",
    "    model_filepath = save_dirpath/'model.h5'\n",
    "    model.save(model_filepath)\n",
    "\n",
    "def save_results(csv_filepath, header, rows):\n",
    "    \n",
    "    # Check if the file exists and has content\n",
    "    try:\n",
    "        with open(csv_filepath, mode='r', newline='') as file:\n",
    "            file_exists = True\n",
    "    except FileNotFoundError:\n",
    "        file_exists = False\n",
    "\n",
    "    # Append to CSV file\n",
    "    with open(csv_filepath, mode='a', newline='') as file:\n",
    "        writer = csv.writer(file)\n",
    "\n",
    "        # Write the header only if the file is new\n",
    "        if not file_exists:\n",
    "            writer.writerow(header)\n",
    "\n",
    "        # Write the rows\n",
    "        writer.writerows(rows)"
   ]
  },
  {
   "cell_type": "code",
   "execution_count": 17,
   "id": "8f1c78c9-8a90-4bdc-a1f0-a570d71f9505",
   "metadata": {},
   "outputs": [],
   "source": [
    "def get_train_id(loc_list, train_loc_list):\n",
    "    return f\"{''.join(map(str, map(loc_list.index, train_loc_list)))}\"\n",
    "\n",
    "def get_evaluation_id(loc_list, train_loc_list, test_location):\n",
    "    return f\"{get_train_id(loc_list, train_loc_list)}-{loc_list.index(test_location)}\""
   ]
  },
  {
   "cell_type": "code",
   "execution_count": 29,
   "id": "f18c5748-2ab0-4800-9d84-0bf477e4287e",
   "metadata": {},
   "outputs": [],
   "source": [
    "def trial(experiment_dirpath, trial_id):\n",
    "    # データをロード\n",
    "    csi_preprocess_id = 'real_and_imag'\n",
    "    location_list = ['511', '512', '514B']\n",
    "    dataset_dict = split_data_for_multiple_location(csi_preprocess_id, location_list)\n",
    "    train_data_dict, valid_data_dict, test_data_dict = dataset_dict\n",
    "\n",
    "    csv_filepath = experiment_dirpath/'results.csv'\n",
    "\n",
    "    for r in range(1, len(location_list) + 1):\n",
    "        for train_location_list in combinations(location_list, r):\n",
    "            print(f'train_location: {list(train_location_list)}')\n",
    "            train_id = get_train_id(location_list, train_location_list)\n",
    "            \n",
    "            train_data = concat_and_shuffle(train_data_dict, train_location_list)\n",
    "            valid_data = concat_and_shuffle(valid_data_dict, train_location_list)\n",
    "\n",
    "            # ハイパーパラメータの指定\n",
    "            hparam = HyperParameters(\n",
    "                epochs = 150,\n",
    "                batch_size = 256,\n",
    "                optimizer = Adam(learning_rate=0.001),\n",
    "                loss_function = BinaryFocalCrossentropy(gamma=2), # BinaryCrossentropy()\n",
    "                metrics = [IntersectionOverUnion(threshold=0.5), MeanPixelAccuracy()],\n",
    "            )\n",
    "\n",
    "            # ディレクトリの設定\n",
    "            train_dirpath = experiment_dirpath/trial_id/train_id\n",
    "            train_dirpath.mkdir(parents=True, exist_ok=True)\n",
    "            \n",
    "            log_dirpath = PROJECT_DIRPATH/'logs'/trial_id/train_id\n",
    "    \n",
    "            history, model = train(hparam, train_data, valid_data, log_dirpath)\n",
    "\n",
    "            save_history(train_dirpath, history)\n",
    "            # save_model(train_dirpath, model)\n",
    "            \n",
    "            for test_location in location_list:\n",
    "                evaluation_id = get_evaluation_id(location_list, train_location_list, test_location)\n",
    "                print(f\"evaluation_id = {evaluation_id}\")\n",
    "                \n",
    "                test_data = test_data_dict[test_location]\n",
    "                X_test, y_test = test_data\n",
    "\n",
    "                results = model.evaluate(X_test, y_test)\n",
    "\n",
    "                # Prepare data to append\n",
    "                header = ['Trial_id', 'Evaluation_id', 'Metric', 'Value']\n",
    "                rows = [\n",
    "                    [trial_id, evaluation_id, name, f\"{value:.04f}\"]\n",
    "                    for name, value in zip(model.metrics_names, results)\n",
    "                ]\n",
    "                \n",
    "                save_results(csv_filepath, header, rows)"
   ]
  },
  {
   "cell_type": "code",
   "execution_count": null,
   "id": "2fd954fb-7caf-480f-974b-d75bb8b341b8",
   "metadata": {},
   "outputs": [
    {
     "name": "stdout",
     "output_type": "stream",
     "text": [
      "train_location: ['511']\n",
      "Epoch 1/150\n"
     ]
    }
   ],
   "source": [
    "date = datetime.now().strftime(\"%Y-%m-%d\")\n",
    "time = datetime.now().strftime(\"%H-%M-%S\")\n",
    "experiment_dirpath = NAS_DIRPATH/'experiments'/date/time\n",
    "experiment_dirpath.mkdir(parents=True, exist_ok=True)\n",
    "\n",
    "n_trial = 30\n",
    "for i in range(n_trial):\n",
    "    trial_id = f'trial_{i}'\n",
    "    trial(experiment_dirpath, trial_id)"
   ]
  },
  {
   "cell_type": "code",
   "execution_count": null,
   "id": "b7586fc1-2df7-4191-885f-eb679c9ddf01",
   "metadata": {},
   "outputs": [],
   "source": []
  },
  {
   "cell_type": "code",
   "execution_count": null,
   "id": "75af40fd-2593-42f5-b44e-38a984c2d742",
   "metadata": {},
   "outputs": [],
   "source": []
  },
  {
   "cell_type": "code",
   "execution_count": null,
   "id": "9a3b62eb-ec92-4680-a382-4b77f7722e02",
   "metadata": {},
   "outputs": [],
   "source": []
  }
 ],
 "metadata": {
  "kernelspec": {
   "display_name": "Python 3 (ipykernel)",
   "language": "python",
   "name": "python3"
  },
  "language_info": {
   "codemirror_mode": {
    "name": "ipython",
    "version": 3
   },
   "file_extension": ".py",
   "mimetype": "text/x-python",
   "name": "python",
   "nbconvert_exporter": "python",
   "pygments_lexer": "ipython3",
   "version": "3.8.10"
  }
 },
 "nbformat": 4,
 "nbformat_minor": 5
}
