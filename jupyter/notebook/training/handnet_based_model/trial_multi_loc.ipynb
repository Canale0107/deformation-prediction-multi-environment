{
 "cells": [
  {
   "cell_type": "markdown",
   "id": "b8e1be92-85b9-4bfa-b106-fb2bece22fcd",
   "metadata": {},
   "source": [
    "# Multi Location"
   ]
  },
  {
   "cell_type": "code",
   "execution_count": 1,
   "id": "70f800f8-0815-4343-b380-81c89163d3c2",
   "metadata": {},
   "outputs": [],
   "source": [
    "%load_ext autoreload\n",
    "%autoreload 2"
   ]
  },
  {
   "cell_type": "code",
   "execution_count": 2,
   "id": "1c52ce86-a3d0-4650-8d89-6c9b457c5f85",
   "metadata": {},
   "outputs": [
    {
     "name": "stderr",
     "output_type": "stream",
     "text": [
      "2024-10-29 17:37:37.770917: I tensorflow/core/platform/cpu_feature_guard.cc:193] This TensorFlow binary is optimized with oneAPI Deep Neural Network Library (oneDNN) to use the following CPU instructions in performance-critical operations:  AVX2 AVX512F AVX512_VNNI FMA\n",
      "To enable them in other operations, rebuild TensorFlow with the appropriate compiler flags.\n",
      "2024-10-29 17:37:37.897492: I tensorflow/core/util/port.cc:104] oneDNN custom operations are on. You may see slightly different numerical results due to floating-point round-off errors from different computation orders. To turn them off, set the environment variable `TF_ENABLE_ONEDNN_OPTS=0`.\n"
     ]
    }
   ],
   "source": [
    "import os\n",
    "from pathlib import Path\n",
    "from datetime import datetime\n",
    "from dataclasses import dataclass\n",
    "from typing import Callable, List\n",
    "\n",
    "import numpy as np\n",
    "import tensorflow as tf\n",
    "from tensorflow.keras.losses import BinaryCrossentropy, BinaryFocalCrossentropy\n",
    "from tensorflow.keras.optimizers import Adam\n",
    "from tensorflow.keras.callbacks import TensorBoard, EarlyStopping"
   ]
  },
  {
   "cell_type": "code",
   "execution_count": 3,
   "id": "435227d2-109e-4033-962b-1dcca0d07b4a",
   "metadata": {},
   "outputs": [],
   "source": [
    "from models.handnet_based_model import handnet_based_model\n",
    "from util.training import init_device\n",
    "from util.training.dataloader import split_data_for_multiple_location\n",
    "from util.training.metrics import IntersectionOverUnion, MeanPixelAccuracy"
   ]
  },
  {
   "cell_type": "code",
   "execution_count": 4,
   "id": "cdf10cbe-28cd-4778-acf5-adf4e2cbe1fb",
   "metadata": {},
   "outputs": [
    {
     "name": "stdout",
     "output_type": "stream",
     "text": [
      "TensorFlow version: 2.11.0\n"
     ]
    }
   ],
   "source": [
    "print(\"TensorFlow version:\", tf.__version__)"
   ]
  },
  {
   "cell_type": "markdown",
   "id": "b7598609-039b-4eb1-81b8-ab5ca659260d",
   "metadata": {},
   "source": [
    "# 準備\n",
    "---"
   ]
  },
  {
   "cell_type": "markdown",
   "id": "3f829dc1-0e66-412b-b7c2-05fbe9b37b56",
   "metadata": {},
   "source": [
    "## デバイスの初期化"
   ]
  },
  {
   "cell_type": "code",
   "execution_count": 5,
   "id": "3d4ca793-58bd-4042-840f-a8a994d74690",
   "metadata": {},
   "outputs": [
    {
     "name": "stdout",
     "output_type": "stream",
     "text": [
      "Tue Oct 29 17:37:39 2024       \n",
      "+-----------------------------------------------------------------------------+\n",
      "| NVIDIA-SMI 470.74       Driver Version: 470.74       CUDA Version: 11.4     |\n",
      "|-------------------------------+----------------------+----------------------+\n",
      "| GPU  Name        Persistence-M| Bus-Id        Disp.A | Volatile Uncorr. ECC |\n",
      "| Fan  Temp  Perf  Pwr:Usage/Cap|         Memory-Usage | GPU-Util  Compute M. |\n",
      "|                               |                      |               MIG M. |\n",
      "|===============================+======================+======================|\n",
      "|   0  NVIDIA RTX A6000    On   | 00000000:18:00.0 Off |                  Off |\n",
      "| 30%   25C    P8    17W / 300W |     28MiB / 48682MiB |      0%      Default |\n",
      "|                               |                      |                  N/A |\n",
      "+-------------------------------+----------------------+----------------------+\n",
      "|   1  NVIDIA RTX A6000    On   | 00000000:3B:00.0 Off |                  Off |\n",
      "| 30%   29C    P8    19W / 300W |      8MiB / 48685MiB |      1%      Default |\n",
      "|                               |                      |                  N/A |\n",
      "+-------------------------------+----------------------+----------------------+\n",
      "|   2  NVIDIA RTX A6000    On   | 00000000:5E:00.0 Off |                  Off |\n",
      "| 30%   29C    P8    22W / 300W |  47651MiB / 48685MiB |      0%      Default |\n",
      "|                               |                      |                  N/A |\n",
      "+-------------------------------+----------------------+----------------------+\n",
      "|   3  NVIDIA RTX A6000    On   | 00000000:86:00.0 Off |                  Off |\n",
      "| 30%   28C    P8    26W / 300W |    449MiB / 48685MiB |      0%      Default |\n",
      "|                               |                      |                  N/A |\n",
      "+-------------------------------+----------------------+----------------------+\n",
      "|   4  NVIDIA RTX A6000    On   | 00000000:D8:00.0 Off |                  Off |\n",
      "| 30%   26C    P8    25W / 300W |      8MiB / 48685MiB |      0%      Default |\n",
      "|                               |                      |                  N/A |\n",
      "+-------------------------------+----------------------+----------------------+\n",
      "                                                                               \n",
      "+-----------------------------------------------------------------------------+\n",
      "| Processes:                                                                  |\n",
      "|  GPU   GI   CI        PID   Type   Process name                  GPU Memory |\n",
      "|        ID   ID                                                   Usage      |\n",
      "|=============================================================================|\n",
      "+-----------------------------------------------------------------------------+\n"
     ]
    }
   ],
   "source": [
    "!nvidia-smi"
   ]
  },
  {
   "cell_type": "code",
   "execution_count": 6,
   "id": "604eb57a-efe0-4c1a-bb8b-e0f752e4ea90",
   "metadata": {},
   "outputs": [],
   "source": [
    "# 使用するGPUを指定\n",
    "gpu = [3]"
   ]
  },
  {
   "cell_type": "code",
   "execution_count": 7,
   "id": "116fef91-3836-46ad-8c74-24b7064dc5d1",
   "metadata": {},
   "outputs": [
    {
     "name": "stdout",
     "output_type": "stream",
     "text": [
      "Setting random seed: 42\n",
      "Random seed set for Python, NumPy, and TensorFlow.\n",
      "Detected 5 GPU(s): ['/physical_device:GPU:0', '/physical_device:GPU:1', '/physical_device:GPU:2', '/physical_device:GPU:3', '/physical_device:GPU:4']\n",
      "Visible GPU devices (1): ['/physical_device:GPU:3']\n"
     ]
    }
   ],
   "source": [
    "seed = 42\n",
    "init_device(seed, gpu)"
   ]
  },
  {
   "cell_type": "markdown",
   "id": "483c0f37-b915-4b84-8bea-0d7ab33b1325",
   "metadata": {},
   "source": [
    "## ハイパーパラメータクラスの定義"
   ]
  },
  {
   "cell_type": "code",
   "execution_count": 8,
   "id": "33aec5c8-bede-407d-a609-c6da5b4caa36",
   "metadata": {},
   "outputs": [],
   "source": [
    "@dataclass\n",
    "class HyperParameters:\n",
    "    epochs: int\n",
    "    batch_size: int\n",
    "    loss_function: Callable\n",
    "    metrics: List[Callable]\n",
    "    optimizer: Callable"
   ]
  },
  {
   "cell_type": "markdown",
   "id": "c3d6bb41-6cb4-4800-90e8-e6b01fafe394",
   "metadata": {},
   "source": [
    "## モデルの初期化関数の定義"
   ]
  },
  {
   "cell_type": "code",
   "execution_count": 9,
   "id": "a7df09fd-ae16-42f4-a4cd-6cc5d41aa869",
   "metadata": {},
   "outputs": [],
   "source": [
    "def init_model(hparam):\n",
    "    model = handnet_based_model(\n",
    "        input_shape = (10, 52, 2),\n",
    "        num_block1 = 3,\n",
    "        num_block2 = 3,\n",
    "        num_residual_blocks = 14, # 残差ブロックは増やすと重くなる\n",
    "    )\n",
    "    \n",
    "    model.compile(\n",
    "        optimizer = hparam.optimizer,\n",
    "        loss = hparam.loss_function,\n",
    "        metrics = hparam.metrics,\n",
    "    )\n",
    "\n",
    "    return model"
   ]
  },
  {
   "cell_type": "markdown",
   "id": "f4209a36-f353-4ada-b4e1-ce7251058c46",
   "metadata": {},
   "source": [
    "## コールバック準備関数の定義"
   ]
  },
  {
   "cell_type": "code",
   "execution_count": 10,
   "id": "b2fdcf53-c4c3-4568-ad8f-4498e1503892",
   "metadata": {},
   "outputs": [],
   "source": [
    "def prepare_callbacks(hparam, log_dirpath):\n",
    "\n",
    "    callbacks = [\n",
    "        TensorBoard(log_dir=log_dirpath, histogram_freq=1),\n",
    "        EarlyStopping(\n",
    "            monitor='val_iou',\n",
    "            mode='max',\n",
    "            patience=10,\n",
    "            restore_best_weights=True,\n",
    "        )\n",
    "    ]\n",
    "\n",
    "    return callbacks"
   ]
  },
  {
   "cell_type": "markdown",
   "id": "41951eb0-7e4f-4145-8437-101bbc8124d9",
   "metadata": {},
   "source": [
    "## モデルを訓練する関数の定義"
   ]
  },
  {
   "cell_type": "code",
   "execution_count": 11,
   "id": "48791ef5-c6a7-4268-8afa-692f7f2552bb",
   "metadata": {},
   "outputs": [],
   "source": [
    "def train(hparam, dataset, log_dirpath):\n",
    "    print(f'log_dir = {log_dirpath}')\n",
    "\n",
    "    # データの用意\n",
    "    train_data, valid_data, test_data = dataset\n",
    "    X_train, Y_train = train_data\n",
    "    X_valid, Y_valid = valid_data\n",
    "    X_test, Y_test = test_data\n",
    "\n",
    "    # モデルを作成\n",
    "    model = init_model(hparam)\n",
    "\n",
    "    # モデルのフィッティング\n",
    "    history = model.fit(\n",
    "        X_train, Y_train,\n",
    "        validation_data=(X_valid, Y_valid),\n",
    "        epochs = hparam.epochs,\n",
    "        batch_size = hparam.batch_size,\n",
    "        verbose = 1,\n",
    "        callbacks = prepare_callbacks(hparam, log_dirpath)\n",
    "    )\n",
    "\n",
    "    # テストデータでの評価\n",
    "    test_loss, *test_metric = model.evaluate(X_test, Y_test, verbose=2)\n",
    "    print(f\"Test Loss: {test_loss}, Test Metric: {test_metric}\")\n",
    "\n",
    "    return history, model"
   ]
  },
  {
   "cell_type": "markdown",
   "id": "b31fa931-9542-4226-b687-da7d7850f359",
   "metadata": {},
   "source": [
    "# モデルの訓練\n",
    "---"
   ]
  },
  {
   "cell_type": "code",
   "execution_count": 12,
   "id": "0b180faf-03bc-4730-bfc4-59d55d23a68b",
   "metadata": {},
   "outputs": [],
   "source": [
    "def get_log_dirpath(root_log_dirpath, notebook_name):\n",
    "    date = datetime.now().strftime(\"%Y-%m-%d\")\n",
    "    time = datetime.now().strftime(\"%H-%M-%S\")\n",
    "    log_dirpath = os.path.join(\n",
    "        root_log_dirpath, \n",
    "        date,\n",
    "        notebook_name,\n",
    "        time\n",
    "    )\n",
    "\n",
    "    return log_dirpath"
   ]
  },
  {
   "cell_type": "code",
   "execution_count": 13,
   "id": "bff5cc34-c6d8-4288-8158-58d4a95408bc",
   "metadata": {},
   "outputs": [
    {
     "name": "stderr",
     "output_type": "stream",
     "text": [
      "2024-10-29 17:37:58.101078: I tensorflow/core/platform/cpu_feature_guard.cc:193] This TensorFlow binary is optimized with oneAPI Deep Neural Network Library (oneDNN) to use the following CPU instructions in performance-critical operations:  AVX2 AVX512F AVX512_VNNI FMA\n",
      "To enable them in other operations, rebuild TensorFlow with the appropriate compiler flags.\n",
      "2024-10-29 17:37:58.668451: I tensorflow/core/common_runtime/gpu/gpu_device.cc:1613] Created device /job:localhost/replica:0/task:0/device:GPU:0 with 46258 MB memory:  -> device: 3, name: NVIDIA RTX A6000, pci bus id: 0000:86:00.0, compute capability: 8.6\n"
     ]
    },
    {
     "name": "stdout",
     "output_type": "stream",
     "text": [
      "log_dir = /tf/workspace/deformation-prediction-multi-environment/logs/2024-10-29/multi_location_real_and_imag/17-37-59\n",
      "Epoch 1/150\n"
     ]
    },
    {
     "name": "stderr",
     "output_type": "stream",
     "text": [
      "2024-10-29 17:38:21.222138: I tensorflow/compiler/xla/stream_executor/cuda/cuda_dnn.cc:428] Loaded cuDNN version 8100\n",
      "2024-10-29 17:38:22.950447: I tensorflow/compiler/xla/stream_executor/cuda/cuda_blas.cc:630] TensorFloat-32 will be used for the matrix multiplication. This will only be logged once.\n",
      "2024-10-29 17:38:23.175564: I tensorflow/compiler/xla/service/service.cc:173] XLA service 0x7f6c8c0177c0 initialized for platform CUDA (this does not guarantee that XLA will be used). Devices:\n",
      "2024-10-29 17:38:23.175602: I tensorflow/compiler/xla/service/service.cc:181]   StreamExecutor device (0): NVIDIA RTX A6000, Compute Capability 8.6\n",
      "2024-10-29 17:38:23.183725: I tensorflow/compiler/mlir/tensorflow/utils/dump_mlir_util.cc:268] disabling MLIR crash reproducer, set env var `MLIR_CRASH_REPRODUCER_DIRECTORY` to enable.\n",
      "2024-10-29 17:38:23.343028: I tensorflow/compiler/jit/xla_compilation_cache.cc:477] Compiled cluster using XLA!  This line is logged at most once for the lifetime of the process.\n"
     ]
    },
    {
     "name": "stdout",
     "output_type": "stream",
     "text": [
      "394/394 [==============================] - 87s 109ms/step - loss: 0.0960 - iou: 0.2343 - mpa: 0.6150 - val_loss: 0.0962 - val_iou: 0.2413 - val_mpa: 0.6188\n",
      "Epoch 2/150\n",
      "394/394 [==============================] - 41s 105ms/step - loss: 0.0914 - iou: 0.2620 - mpa: 0.6298 - val_loss: 0.1017 - val_iou: 0.2512 - val_mpa: 0.6214\n",
      "Epoch 3/150\n",
      "394/394 [==============================] - 42s 106ms/step - loss: 0.0889 - iou: 0.2946 - mpa: 0.6470 - val_loss: 0.1010 - val_iou: 0.2885 - val_mpa: 0.6438\n",
      "Epoch 4/150\n",
      "394/394 [==============================] - 42s 107ms/step - loss: 0.0868 - iou: 0.3295 - mpa: 0.6655 - val_loss: 0.1055 - val_iou: 0.2923 - val_mpa: 0.6434\n",
      "Epoch 5/150\n",
      "394/394 [==============================] - 42s 105ms/step - loss: 0.0844 - iou: 0.3619 - mpa: 0.6826 - val_loss: 0.1130 - val_iou: 0.3011 - val_mpa: 0.6476\n",
      "Epoch 6/150\n",
      "394/394 [==============================] - 42s 106ms/step - loss: 0.0815 - iou: 0.3996 - mpa: 0.7026 - val_loss: 0.1066 - val_iou: 0.3243 - val_mpa: 0.6618\n",
      "Epoch 7/150\n",
      "394/394 [==============================] - 41s 105ms/step - loss: 0.0786 - iou: 0.4347 - mpa: 0.7209 - val_loss: 0.1059 - val_iou: 0.3200 - val_mpa: 0.6569\n",
      "Epoch 8/150\n",
      "394/394 [==============================] - 42s 106ms/step - loss: 0.0757 - iou: 0.4681 - mpa: 0.7385 - val_loss: 0.1055 - val_iou: 0.3571 - val_mpa: 0.6776\n",
      "Epoch 9/150\n",
      "394/394 [==============================] - 41s 105ms/step - loss: 0.0735 - iou: 0.4909 - mpa: 0.7503 - val_loss: 0.1133 - val_iou: 0.3390 - val_mpa: 0.6668\n",
      "Epoch 10/150\n",
      "394/394 [==============================] - 42s 105ms/step - loss: 0.0716 - iou: 0.5126 - mpa: 0.7614 - val_loss: 0.1025 - val_iou: 0.3575 - val_mpa: 0.6799\n",
      "Epoch 11/150\n",
      "394/394 [==============================] - 42s 105ms/step - loss: 0.0690 - iou: 0.5391 - mpa: 0.7750 - val_loss: 0.1114 - val_iou: 0.3374 - val_mpa: 0.6671\n",
      "Epoch 12/150\n",
      "394/394 [==============================] - 42s 105ms/step - loss: 0.0670 - iou: 0.5576 - mpa: 0.7845 - val_loss: 0.1044 - val_iou: 0.3434 - val_mpa: 0.6709\n",
      "Epoch 13/150\n",
      "394/394 [==============================] - 42s 107ms/step - loss: 0.0655 - iou: 0.5710 - mpa: 0.7910 - val_loss: 0.1072 - val_iou: 0.3484 - val_mpa: 0.6722\n",
      "Epoch 14/150\n",
      "394/394 [==============================] - 40s 102ms/step - loss: 0.0642 - iou: 0.5865 - mpa: 0.7989 - val_loss: 0.1131 - val_iou: 0.3498 - val_mpa: 0.6730\n",
      "Epoch 15/150\n",
      "394/394 [==============================] - 42s 106ms/step - loss: 0.0626 - iou: 0.6014 - mpa: 0.8065 - val_loss: 0.1087 - val_iou: 0.3621 - val_mpa: 0.6816\n",
      "Epoch 16/150\n",
      "394/394 [==============================] - 41s 105ms/step - loss: 0.0604 - iou: 0.6157 - mpa: 0.8140 - val_loss: 0.1131 - val_iou: 0.3499 - val_mpa: 0.6706\n",
      "Epoch 17/150\n",
      "394/394 [==============================] - 41s 104ms/step - loss: 0.0597 - iou: 0.6215 - mpa: 0.8167 - val_loss: 0.1071 - val_iou: 0.3824 - val_mpa: 0.6941\n",
      "Epoch 18/150\n",
      "394/394 [==============================] - 42s 106ms/step - loss: 0.0580 - iou: 0.6359 - mpa: 0.8241 - val_loss: 0.1290 - val_iou: 0.3556 - val_mpa: 0.6752\n",
      "Epoch 19/150\n",
      "394/394 [==============================] - 41s 104ms/step - loss: 0.0567 - iou: 0.6427 - mpa: 0.8273 - val_loss: 0.1246 - val_iou: 0.3557 - val_mpa: 0.6766\n",
      "Epoch 20/150\n",
      "394/394 [==============================] - 41s 105ms/step - loss: 0.0557 - iou: 0.6524 - mpa: 0.8324 - val_loss: 0.1197 - val_iou: 0.3695 - val_mpa: 0.6882\n",
      "Epoch 21/150\n",
      "394/394 [==============================] - 41s 105ms/step - loss: 0.0545 - iou: 0.6616 - mpa: 0.8372 - val_loss: 0.1183 - val_iou: 0.3379 - val_mpa: 0.6661\n",
      "Epoch 22/150\n",
      "394/394 [==============================] - 42s 106ms/step - loss: 0.0534 - iou: 0.6691 - mpa: 0.8408 - val_loss: 0.1189 - val_iou: 0.3781 - val_mpa: 0.6899\n",
      "Epoch 23/150\n",
      "394/394 [==============================] - 42s 106ms/step - loss: 0.0531 - iou: 0.6705 - mpa: 0.8416 - val_loss: 0.1304 - val_iou: 0.3667 - val_mpa: 0.6821\n",
      "Epoch 24/150\n",
      "394/394 [==============================] - 42s 107ms/step - loss: 0.0510 - iou: 0.6848 - mpa: 0.8493 - val_loss: 0.1197 - val_iou: 0.3728 - val_mpa: 0.6870\n",
      "Epoch 25/150\n",
      "394/394 [==============================] - 41s 103ms/step - loss: 0.0504 - iou: 0.6903 - mpa: 0.8518 - val_loss: 0.1337 - val_iou: 0.3446 - val_mpa: 0.6682\n",
      "Epoch 26/150\n",
      "394/394 [==============================] - 41s 104ms/step - loss: 0.0491 - iou: 0.6987 - mpa: 0.8564 - val_loss: 0.1694 - val_iou: 0.3681 - val_mpa: 0.6838\n",
      "Epoch 27/150\n",
      "394/394 [==============================] - 41s 105ms/step - loss: 0.0486 - iou: 0.7032 - mpa: 0.8587 - val_loss: 0.1300 - val_iou: 0.3781 - val_mpa: 0.6886\n"
     ]
    }
   ],
   "source": [
    "# データをロード\n",
    "csi_preprocess_id = 'real_and_imag'\n",
    "location_list = ['511', '512', '514B']\n",
    "dataset, dataset_dict = split_data_for_multiple_location(csi_preprocess_id, location_list)\n",
    "\n",
    "# ハイパーパラメータの指定\n",
    "hparam = HyperParameters(\n",
    "    epochs = 150,\n",
    "    batch_size = 64,\n",
    "    optimizer = Adam(learning_rate=0.001),\n",
    "    loss_function = BinaryFocalCrossentropy(gamma=2), # BinaryCrossentropy(),\n",
    "    metrics = [IntersectionOverUnion(threshold=0.5), MeanPixelAccuracy()],\n",
    ")\n",
    "\n",
    "# ログディレクトリを指定\n",
    "project_dirpath = Path('/tf/workspace/deformation-prediction-multi-environment')\n",
    "root_log_dirpath = project_dirpath/'logs' \n",
    "notebook_name = f'multi_location_real_and_imag'\n",
    "log_dirpath = get_log_dirpath(root_log_dirpath, notebook_name)\n",
    "\n",
    "history, model = train(hparam, dataset, log_dirpath)"
   ]
  },
  {
   "cell_type": "markdown",
   "id": "2df3f302-cd58-472f-88ca-bc41846377a3",
   "metadata": {},
   "source": [
    "# ファインチューニング"
   ]
  },
  {
   "cell_type": "code",
   "execution_count": null,
   "id": "c5aca307-5575-46ed-aed5-ee7aa29fdf87",
   "metadata": {},
   "outputs": [],
   "source": []
  },
  {
   "cell_type": "markdown",
   "id": "b2fa3ef0-89f1-4c07-9782-eaf9022dcfb7",
   "metadata": {},
   "source": [
    "# 評価\n",
    "---"
   ]
  },
  {
   "cell_type": "code",
   "execution_count": 26,
   "id": "47987e68-204d-47fb-89fd-99620cd82809",
   "metadata": {},
   "outputs": [],
   "source": [
    "_, valid_data, test_data_dict = dataset\n",
    "X_valid, Y_valid = valid_data\n",
    "X_test, Y_test = test_data_dict['514B']"
   ]
  },
  {
   "cell_type": "markdown",
   "id": "02bd6d6e-63ca-4c5b-a4ce-afff9e31b27c",
   "metadata": {},
   "source": [
    "## 各メトリックの平均値"
   ]
  },
  {
   "cell_type": "code",
   "execution_count": 27,
   "id": "42f81a82-b459-4f0b-a2b2-664ccdc1a54f",
   "metadata": {},
   "outputs": [
    {
     "name": "stdout",
     "output_type": "stream",
     "text": [
      "57/57 [==============================] - 2s 32ms/step - loss: 0.1130 - iou: 0.3241 - mpa: 0.6610\n",
      "loss: 0.1130\n",
      "iou: 0.3241\n",
      "mpa: 0.6610\n"
     ]
    }
   ],
   "source": [
    "results = model.evaluate(X_test, Y_test)\n",
    "for name, value in zip(model.metrics_names, results):\n",
    "    print(f\"{name}: {value:.04f}\")"
   ]
  },
  {
   "cell_type": "markdown",
   "id": "2be5b63b-5d68-4b24-9969-ad8dddff7d39",
   "metadata": {},
   "source": [
    "# 予測結果のサンプルをランダムに表示"
   ]
  },
  {
   "cell_type": "code",
   "execution_count": 17,
   "id": "8a77b5a7-8723-42bb-810d-5b67f410b17a",
   "metadata": {},
   "outputs": [],
   "source": [
    "from util.plot import plot_predictions"
   ]
  },
  {
   "cell_type": "code",
   "execution_count": 18,
   "id": "a63d48af-dda9-4dd4-9299-06ffe343471c",
   "metadata": {},
   "outputs": [],
   "source": [
    "metrics = {'IoU': IntersectionOverUnion(threshold=0.5), 'mPA': MeanPixelAccuracy()}"
   ]
  },
  {
   "cell_type": "code",
   "execution_count": 19,
   "id": "6e416ce1-a1ff-46f2-a449-371f2504c3d2",
   "metadata": {},
   "outputs": [
    {
     "name": "stdout",
     "output_type": "stream",
     "text": [
      "169/169 [==============================] - 5s 22ms/step\n"
     ]
    },
    {
     "data": {
      "image/png": "[encoded data removed]",
      "text/plain": [
       "<Figure size 1200x400 with 12 Axes>"
      ]
     },
     "metadata": {},
     "output_type": "display_data"
    }
   ],
   "source": [
    "# 検証セット\n",
    "plot_predictions(model, X_valid, Y_valid, n_samples=6, threshold=0.5, seed=42, metrics=metrics)"
   ]
  },
  {
   "cell_type": "code",
   "execution_count": 29,
   "id": "fceb28e6-4ecd-4aa8-90e7-5a748e95c8ac",
   "metadata": {},
   "outputs": [
    {
     "name": "stdout",
     "output_type": "stream",
     "text": [
      "57/57 [==============================] - 2s 27ms/step\n"
     ]
    },
    {
     "data": {
      "image/png": "[encoded data removed]",
      "text/plain": [
       "<Figure size 1200x400 with 12 Axes>"
      ]
     },
     "metadata": {},
     "output_type": "display_data"
    }
   ],
   "source": [
    "# テストセット\n",
    "plot_predictions(model, X_test, Y_test, n_samples=6, threshold=0.5, seed=44, metrics=metrics)"
   ]
  },
  {
   "cell_type": "markdown",
   "id": "c826f154-aaf5-49bc-95f6-07e5d21a4e68",
   "metadata": {},
   "source": [
    "環境依存性  \n",
    "Loss関数による性能の違い"
   ]
  },
  {
   "cell_type": "code",
   "execution_count": null,
   "id": "93ea5d74-2ba3-4f2d-9555-d682adb2cce2",
   "metadata": {},
   "outputs": [],
   "source": []
  }
 ],
 "metadata": {
  "kernelspec": {
   "display_name": "Python 3 (ipykernel)",
   "language": "python",
   "name": "python3"
  },
  "language_info": {
   "codemirror_mode": {
    "name": "ipython",
    "version": 3
   },
   "file_extension": ".py",
   "mimetype": "text/x-python",
   "name": "python",
   "nbconvert_exporter": "python",
   "pygments_lexer": "ipython3",
   "version": "3.8.10"
  }
 },
 "nbformat": 4,
 "nbformat_minor": 5
}
