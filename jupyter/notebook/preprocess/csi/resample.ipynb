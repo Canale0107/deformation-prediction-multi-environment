{
 "cells": [
  {
   "cell_type": "code",
   "execution_count": 212,
   "id": "65bb1816-3aa4-410d-977d-cd0bb62a349e",
   "metadata": {},
   "outputs": [],
   "source": [
    "from datetime import datetime\n",
    "from pathlib import Path\n",
    "import numpy as np\n",
    "import pandas as pd"
   ]
  },
  {
   "cell_type": "code",
   "execution_count": 215,
   "id": "501bae89-c513-48c4-bdf6-05c167bb0ab6",
   "metadata": {},
   "outputs": [],
   "source": [
    "from util.preprocess.csi import linear_interpolate_resampling"
   ]
  },
  {
   "cell_type": "code",
   "execution_count": 26,
   "id": "6234a113-22c0-4792-98b6-809473815019",
   "metadata": {},
   "outputs": [
    {
     "data": {
      "text/plain": [
       "<module 'util.preprocess.handle_session_data' from '/workspace/deformation-prediction-multi-environment/util/preprocess/handle_session_data.py'>"
      ]
     },
     "execution_count": 26,
     "metadata": {},
     "output_type": "execute_result"
    }
   ],
   "source": [
    "import importlib\n",
    "import util\n",
    "importlib.reload(util)\n",
    "importlib.reload(util.preprocess.handle_session_data)"
   ]
  },
  {
   "cell_type": "code",
   "execution_count": 27,
   "id": "60bfbeec-ad38-4941-ba8f-f97fd12361fc",
   "metadata": {},
   "outputs": [],
   "source": [
    "from util.preprocess.handle_session_data import convert_jst_to_utc, load_meta_data, get_session_data"
   ]
  },
  {
   "cell_type": "code",
   "execution_count": 4,
   "id": "bfe5b898-e21e-4c28-aa83-09fb0b732121",
   "metadata": {},
   "outputs": [],
   "source": [
    "root_data_dirpath = Path('/workspace/deformation-prediction-multi-environment/data')\n",
    "raw_data_dirpath = root_data_dirpath / 'raw'"
   ]
  },
  {
   "cell_type": "code",
   "execution_count": 5,
   "id": "837097e6-fc39-4eb2-a0ef-ca8d27ca9340",
   "metadata": {},
   "outputs": [],
   "source": [
    "session_data_filepath = raw_data_dirpath / 'session.csv'"
   ]
  },
  {
   "cell_type": "code",
   "execution_count": 6,
   "id": "d406f7dd-be44-464d-ba7d-a3c0352ddab1",
   "metadata": {},
   "outputs": [],
   "source": [
    "session_df = pd.read_csv(session_data_filepath)"
   ]
  },
  {
   "cell_type": "code",
   "execution_count": 7,
   "id": "431a6527-327e-432a-a180-a1911290322b",
   "metadata": {},
   "outputs": [
    {
     "data": {
      "text/html": [
       "<div>\n",
       "<style scoped>\n",
       "    .dataframe tbody tr th:only-of-type {\n",
       "        vertical-align: middle;\n",
       "    }\n",
       "\n",
       "    .dataframe tbody tr th {\n",
       "        vertical-align: top;\n",
       "    }\n",
       "\n",
       "    .dataframe thead th {\n",
       "        text-align: right;\n",
       "    }\n",
       "</style>\n",
       "<table border=\"1\" class=\"dataframe\">\n",
       "  <thead>\n",
       "    <tr style=\"text-align: right;\">\n",
       "      <th></th>\n",
       "      <th>session_id</th>\n",
       "      <th>location</th>\n",
       "      <th>start_time_JST</th>\n",
       "      <th>end_time_JST</th>\n",
       "    </tr>\n",
       "  </thead>\n",
       "  <tbody>\n",
       "    <tr>\n",
       "      <th>0</th>\n",
       "      <td>session_20240926_151603</td>\n",
       "      <td>512</td>\n",
       "      <td>2024-09-26 15:17:00</td>\n",
       "      <td>2024-09-26 15:22:00</td>\n",
       "    </tr>\n",
       "    <tr>\n",
       "      <th>1</th>\n",
       "      <td>session_20240926_152330</td>\n",
       "      <td>512</td>\n",
       "      <td>2024-09-26 15:24:00</td>\n",
       "      <td>2024-09-26 15:29:00</td>\n",
       "    </tr>\n",
       "    <tr>\n",
       "      <th>2</th>\n",
       "      <td>session_20240926_153446</td>\n",
       "      <td>512</td>\n",
       "      <td>2024-09-26 15:35:00</td>\n",
       "      <td>2024-09-26 15:40:00</td>\n",
       "    </tr>\n",
       "    <tr>\n",
       "      <th>3</th>\n",
       "      <td>session_20240926_154624</td>\n",
       "      <td>512</td>\n",
       "      <td>2024-09-26 15:47:00</td>\n",
       "      <td>2024-09-26 15:52:00</td>\n",
       "    </tr>\n",
       "    <tr>\n",
       "      <th>4</th>\n",
       "      <td>session_20240926_165118</td>\n",
       "      <td>511</td>\n",
       "      <td>2024-09-26 16:52:00</td>\n",
       "      <td>2024-09-26 16:57:00</td>\n",
       "    </tr>\n",
       "    <tr>\n",
       "      <th>5</th>\n",
       "      <td>session_20240926_170021</td>\n",
       "      <td>511</td>\n",
       "      <td>2024-09-26 17:01:00</td>\n",
       "      <td>2024-09-26 17:06:00</td>\n",
       "    </tr>\n",
       "    <tr>\n",
       "      <th>6</th>\n",
       "      <td>session_20240926_171232</td>\n",
       "      <td>511</td>\n",
       "      <td>2024-09-26 17:13:00</td>\n",
       "      <td>2024-09-26 17:18:00</td>\n",
       "    </tr>\n",
       "    <tr>\n",
       "      <th>7</th>\n",
       "      <td>session_20240926_172237</td>\n",
       "      <td>511</td>\n",
       "      <td>2024-09-26 17:23:00</td>\n",
       "      <td>2024-09-26 17:28:00</td>\n",
       "    </tr>\n",
       "    <tr>\n",
       "      <th>8</th>\n",
       "      <td>session_20240926_175737</td>\n",
       "      <td>514B</td>\n",
       "      <td>2024-09-26 17:58:00</td>\n",
       "      <td>2024-09-26 18:03:00</td>\n",
       "    </tr>\n",
       "    <tr>\n",
       "      <th>9</th>\n",
       "      <td>session_20240926_180441</td>\n",
       "      <td>514B</td>\n",
       "      <td>2024-09-26 18:05:00</td>\n",
       "      <td>2024-09-26 18:10:00</td>\n",
       "    </tr>\n",
       "    <tr>\n",
       "      <th>10</th>\n",
       "      <td>session_20240926_181126</td>\n",
       "      <td>514B</td>\n",
       "      <td>2024-09-26 18:12:00</td>\n",
       "      <td>2024-09-26 18:17:00</td>\n",
       "    </tr>\n",
       "    <tr>\n",
       "      <th>11</th>\n",
       "      <td>session_20240926_181815</td>\n",
       "      <td>514B</td>\n",
       "      <td>2024-09-26 18:19:00</td>\n",
       "      <td>2024-09-26 18:24:00</td>\n",
       "    </tr>\n",
       "  </tbody>\n",
       "</table>\n",
       "</div>"
      ],
      "text/plain": [
       "                 session_id location       start_time_JST         end_time_JST\n",
       "0   session_20240926_151603      512  2024-09-26 15:17:00  2024-09-26 15:22:00\n",
       "1   session_20240926_152330      512  2024-09-26 15:24:00  2024-09-26 15:29:00\n",
       "2   session_20240926_153446      512  2024-09-26 15:35:00  2024-09-26 15:40:00\n",
       "3   session_20240926_154624      512  2024-09-26 15:47:00  2024-09-26 15:52:00\n",
       "4   session_20240926_165118      511  2024-09-26 16:52:00  2024-09-26 16:57:00\n",
       "5   session_20240926_170021      511  2024-09-26 17:01:00  2024-09-26 17:06:00\n",
       "6   session_20240926_171232      511  2024-09-26 17:13:00  2024-09-26 17:18:00\n",
       "7   session_20240926_172237      511  2024-09-26 17:23:00  2024-09-26 17:28:00\n",
       "8   session_20240926_175737     514B  2024-09-26 17:58:00  2024-09-26 18:03:00\n",
       "9   session_20240926_180441     514B  2024-09-26 18:05:00  2024-09-26 18:10:00\n",
       "10  session_20240926_181126     514B  2024-09-26 18:12:00  2024-09-26 18:17:00\n",
       "11  session_20240926_181815     514B  2024-09-26 18:19:00  2024-09-26 18:24:00"
      ]
     },
     "execution_count": 7,
     "metadata": {},
     "output_type": "execute_result"
    }
   ],
   "source": [
    "session_df"
   ]
  },
  {
   "cell_type": "markdown",
   "id": "df7c1dc5-42eb-43c2-92ec-6a87f2b2048c",
   "metadata": {},
   "source": [
    "# Filtering"
   ]
  },
  {
   "cell_type": "code",
   "execution_count": 244,
   "id": "755a26b0-da07-4e08-ac31-4c719bced3f3",
   "metadata": {},
   "outputs": [],
   "source": [
    "def filter_by_mac(csi_data_df):\n",
    "\n",
    "    target_mac_addr = '08:D1:F9:34:A5:98'\n",
    "    target_sig_mode = 1 # 802.11n\n",
    "    \n",
    "    # MACアドレスと11nでフィルタリング\n",
    "    filtered_df = csi_data_df[(csi_data_df['mac_addr'] == target_mac_addr) & (csi_data_df['sig_mode'] == target_sig_mode)][['csi_data', 'timestamp']]\n",
    "    \n",
    "    # 'csi_data' の処理\n",
    "    filtered_df['csi_data'] = filtered_df['csi_data'].str.strip('[]').str.split()\n",
    "    filtered_df['csi_data'] = filtered_df['csi_data'].apply(lambda x: [int(i) for i in x] if len(x) == 128 else None)\n",
    "    filtered_df = filtered_df.dropna(subset=['csi_data'])\n",
    "    \n",
    "    # MultiIndex の列名を作成\n",
    "    columns = [\n",
    "        ('timestamp', ''), \n",
    "        *[(f'real', f'sc_{i}') for i in range(64)], \n",
    "        *[(f'imag', f'sc_{i}') for i in range(64)], \n",
    "        *[(f'amp', f'sc_{i}') for i in range(64)], \n",
    "        *[(f'phase', f'sc_{i}') for i in range(64)]\n",
    "    ]\n",
    "    \n",
    "    # 各サブキャリアの値を計算して DataFrame に追加\n",
    "    data = [\n",
    "        [row['timestamp']] + \n",
    "        [row['csi_data'][2 * i] for i in range(64)] +  # real parts\n",
    "        [row['csi_data'][2 * i + 1] for i in range(64)] +  # imag parts\n",
    "        [np.sqrt(row['csi_data'][2 * i]**2 + row['csi_data'][2 * i + 1]**2) for i in range(64)] +  # amplitude\n",
    "        [np.arctan2(row['csi_data'][2 * i + 1], row['csi_data'][2 * i]) for i in range(64)]  # phase\n",
    "        for _, row in filtered_df.iterrows()\n",
    "    ]\n",
    "    \n",
    "    # MultiIndex を持つ DataFrame を作成\n",
    "    filtered_df = pd.DataFrame(data, columns=pd.MultiIndex.from_tuples(columns))\n",
    "\n",
    "    return filtered_df"
   ]
  },
  {
   "cell_type": "code",
   "execution_count": 246,
   "id": "3916e612-bd18-4331-8170-2555fbae4062",
   "metadata": {},
   "outputs": [
    {
     "name": "stdout",
     "output_type": "stream",
     "text": [
      "Location: 512, Start Time: 2024-09-26 15:17:00, End Time: 2024-09-26 15:22:00\n",
      "Location: 512, Start Time: 2024-09-26 15:24:00, End Time: 2024-09-26 15:29:00\n",
      "Location: 512, Start Time: 2024-09-26 15:35:00, End Time: 2024-09-26 15:40:00\n",
      "Location: 512, Start Time: 2024-09-26 15:47:00, End Time: 2024-09-26 15:52:00\n",
      "Location: 511, Start Time: 2024-09-26 16:52:00, End Time: 2024-09-26 16:57:00\n",
      "Location: 511, Start Time: 2024-09-26 17:01:00, End Time: 2024-09-26 17:06:00\n",
      "Location: 511, Start Time: 2024-09-26 17:13:00, End Time: 2024-09-26 17:18:00\n",
      "Location: 511, Start Time: 2024-09-26 17:23:00, End Time: 2024-09-26 17:28:00\n",
      "Location: 514B, Start Time: 2024-09-26 17:58:00, End Time: 2024-09-26 18:03:00\n",
      "Location: 514B, Start Time: 2024-09-26 18:05:00, End Time: 2024-09-26 18:10:00\n",
      "Location: 514B, Start Time: 2024-09-26 18:12:00, End Time: 2024-09-26 18:17:00\n",
      "Location: 514B, Start Time: 2024-09-26 18:19:00, End Time: 2024-09-26 18:24:00\n"
     ]
    }
   ],
   "source": [
    "# 各locationごとに保存するための辞書を用意します\n",
    "location_dfs = {}\n",
    "\n",
    "# session_dfを順番に処理\n",
    "for index, row in session_df.iterrows():\n",
    "    session_id = row['session_id']\n",
    "    location = row['location']\n",
    "    start_time_jst_str = row['start_time_JST']\n",
    "    end_time_jst_str = row['end_time_JST']\n",
    "\n",
    "    start_time_jst = datetime.strptime(start_time_jst_str, '%Y-%m-%d %H:%M:%S')\n",
    "    end_time_jst = datetime.strptime(end_time_jst_str, '%Y-%m-%d %H:%M:%S')\n",
    "    print(f\"Location: {location}, Start Time: {start_time_jst}, End Time: {end_time_jst}\")\n",
    "\n",
    "    session_dirpath = raw_data_dirpath / location / session_id \n",
    "    csi_data_filepath = session_dirpath / f'csi_{session_id}.csv'\n",
    "    csi_data_df = pd.read_csv(csi_data_filepath)\n",
    "    csi_data_df['timestamp'] = pd.to_datetime(pd.to_numeric(csi_data_df['timestamp'], errors='coerce'), unit='s')\n",
    "    csi_data_df['sig_mode'] = pd.to_numeric(csi_data_df['sig_mode'], errors='coerce')\n",
    "\n",
    "    filtered_df = filter_by_mac(csi_data_df)\n",
    "\n",
    "    real = filtered_df['real'].values\n",
    "    imag = filtered_df['imag'].values\n",
    "    amp = filtered_df['amp'].values\n",
    "    phase = filtered_df['phase'].values\n",
    "    timestamp = filtered_df['timestamp'].apply(lambda x: x.timestamp()).tolist()\n",
    "\n",
    "    target_fps = 100\n",
    "    real_resampled = linear_interpolate_resampling(real, timestamp, start_time_jst.timestamp(), end_time_jst.timestamp(), target_fps)\n",
    "    imag_resampled = linear_interpolate_resampling(imag, timestamp, start_time_jst.timestamp(), end_time_jst.timestamp(), target_fps)\n",
    "    amp_resampled = linear_interpolate_resampling(amp, timestamp, start_time_jst.timestamp(), end_time_jst.timestamp(), target_fps)\n",
    "    phase_resampled = linear_interpolate_resampling(phase, timestamp, start_time_jst.timestamp(), end_time_jst.timestamp(), target_fps)\n",
    "\n",
    "    save_dirpath = root_data_dirpath / 'preprocessed' / 'csi' / 'resampled' / location / session_id\n",
    "    save_dirpath.mkdir(parents=True, exist_ok=True)\n",
    "    np.save(save_dirpath / 'real.npy', real_resampled)\n",
    "    np.save(save_dirpath / 'imag.npy', imag_resampled)\n",
    "    np.save(save_dirpath / 'amp.npy', amp_resampled)\n",
    "    np.save(save_dirpath / 'phase.npy', phase_resampled)"
   ]
  },
  {
   "cell_type": "code",
   "execution_count": null,
   "id": "cf421fb5-b8b1-411c-8d1a-f96a0ad60668",
   "metadata": {},
   "outputs": [],
   "source": []
  }
 ],
 "metadata": {
  "kernelspec": {
   "display_name": "Python 3 (ipykernel)",
   "language": "python",
   "name": "python3"
  },
  "language_info": {
   "codemirror_mode": {
    "name": "ipython",
    "version": 3
   },
   "file_extension": ".py",
   "mimetype": "text/x-python",
   "name": "python",
   "nbconvert_exporter": "python",
   "pygments_lexer": "ipython3",
   "version": "3.8.10"
  }
 },
 "nbformat": 4,
 "nbformat_minor": 5
}
