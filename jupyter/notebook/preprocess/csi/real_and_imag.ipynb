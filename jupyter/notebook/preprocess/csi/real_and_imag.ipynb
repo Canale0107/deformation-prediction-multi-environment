{
 "cells": [
  {
   "cell_type": "code",
   "execution_count": 1,
   "id": "6af06928-a4ef-48fa-ab0b-7041ded036fa",
   "metadata": {},
   "outputs": [],
   "source": [
    "from pathlib import Path\n",
    "import numpy as np"
   ]
  },
  {
   "cell_type": "code",
   "execution_count": 2,
   "id": "2ca04e10-d157-4afd-877c-e0c43e04bfaf",
   "metadata": {},
   "outputs": [],
   "source": [
    "from util.plot.heatmap import plot_csi"
   ]
  },
  {
   "cell_type": "code",
   "execution_count": 3,
   "id": "48877049-96ce-4c50-ab19-c0d40a8239f5",
   "metadata": {},
   "outputs": [],
   "source": [
    "from util.preprocess.csi.denoising import hampel_filter"
   ]
  },
  {
   "cell_type": "code",
   "execution_count": 10,
   "id": "38eba904-1023-4f92-88f1-82ab77d1daa1",
   "metadata": {},
   "outputs": [],
   "source": [
    "from util.preprocess.csi.normalize import normalize_csi_data_by_frame_power"
   ]
  },
  {
   "cell_type": "code",
   "execution_count": 5,
   "id": "57cd5db2-4784-4174-8e34-1259c31d395b",
   "metadata": {},
   "outputs": [],
   "source": [
    "from util.preprocess.csi.phase import remove_timing_offset"
   ]
  },
  {
   "cell_type": "code",
   "execution_count": 12,
   "id": "f6eb3140-eb31-4fb1-a636-c8efd47bedb0",
   "metadata": {},
   "outputs": [],
   "source": [
    "root_data_dirpath = Path('/tf/workspace/deformation-prediction-multi-environment/data')\n",
    "resampled_data_dirpath = root_data_dirpath / 'preprocessed' / 'csi' / 'resampled'\n",
    "save_dirpath = root_data_dirpath / 'preprocessed' / 'csi' / 'real_and_imag'"
   ]
  },
  {
   "cell_type": "code",
   "execution_count": 13,
   "id": "848745df-59e5-4e4c-9c6d-b9508226c247",
   "metadata": {},
   "outputs": [],
   "source": [
    "trash_subcarriers = [0,1,2,3,4,5,32,59,60,61,62,63]\n",
    "useful_subcarriers = [k for k in range(64) if k not in trash_subcarriers]"
   ]
  },
  {
   "cell_type": "code",
   "execution_count": 14,
   "id": "1b9178af-83ff-42c9-9db9-0de9a243c149",
   "metadata": {},
   "outputs": [],
   "source": [
    "def real_preprocess(real):\n",
    "    real_filtered = hampel_filter(real[:, useful_subcarriers], window_size=200, n_sigmas=3)\n",
    "\n",
    "    return real_filtered"
   ]
  },
  {
   "cell_type": "code",
   "execution_count": 15,
   "id": "20c3d2d8-20b5-420f-8ba2-7c3248fceeb8",
   "metadata": {},
   "outputs": [],
   "source": [
    "def imag_preprocess(imag):\n",
    "    imag_filtered = hampel_filter(imag[:, useful_subcarriers], window_size=200, n_sigmas=3)\n",
    "\n",
    "    return imag_filtered"
   ]
  },
  {
   "cell_type": "code",
   "execution_count": 22,
   "id": "3d3a1a33-51e3-4300-acbc-c0bff857b437",
   "metadata": {},
   "outputs": [],
   "source": [
    "def windowing(data, window_size):\n",
    "    # スライディングウィンドウを適用して、(N, window_size, features)の形に変換\n",
    "    shape = (data.shape[0] // window_size, window_size, data.shape[1], 2)\n",
    "    return data[:shape[0] * window_size].reshape(shape)"
   ]
  },
  {
   "cell_type": "code",
   "execution_count": 24,
   "id": "7937a967-e725-4d05-a79f-b5f3e3c491d5",
   "metadata": {},
   "outputs": [
    {
     "data": {
      "application/vnd.jupyter.widget-view+json": {
       "model_id": "7b54507060eb4e3d88d9a61f16548487",
       "version_major": 2,
       "version_minor": 0
      },
      "text/plain": [
       "Output()"
      ]
     },
     "metadata": {},
     "output_type": "display_data"
    },
    {
     "data": {
      "text/html": [
       "<pre style=\"white-space:pre;overflow-x:auto;line-height:normal;font-family:Menlo,'DejaVu Sans Mono',consolas,'Courier New',monospace\"></pre>\n"
      ],
      "text/plain": []
     },
     "metadata": {},
     "output_type": "display_data"
    },
    {
     "data": {
      "application/vnd.jupyter.widget-view+json": {
       "model_id": "48aa88b317ad4fcf831f59f3bf597f8c",
       "version_major": 2,
       "version_minor": 0
      },
      "text/plain": [
       "Output()"
      ]
     },
     "metadata": {},
     "output_type": "display_data"
    },
    {
     "data": {
      "text/html": [
       "<pre style=\"white-space:pre;overflow-x:auto;line-height:normal;font-family:Menlo,'DejaVu Sans Mono',consolas,'Courier New',monospace\"></pre>\n"
      ],
      "text/plain": []
     },
     "metadata": {},
     "output_type": "display_data"
    },
    {
     "data": {
      "application/vnd.jupyter.widget-view+json": {
       "model_id": "ab995851197d4ba5a78097d5aa75af62",
       "version_major": 2,
       "version_minor": 0
      },
      "text/plain": [
       "Output()"
      ]
     },
     "metadata": {},
     "output_type": "display_data"
    },
    {
     "data": {
      "text/html": [
       "<pre style=\"white-space:pre;overflow-x:auto;line-height:normal;font-family:Menlo,'DejaVu Sans Mono',consolas,'Courier New',monospace\"></pre>\n"
      ],
      "text/plain": []
     },
     "metadata": {},
     "output_type": "display_data"
    },
    {
     "data": {
      "application/vnd.jupyter.widget-view+json": {
       "model_id": "a8ab9795e8254c48b308339a3f881e60",
       "version_major": 2,
       "version_minor": 0
      },
      "text/plain": [
       "Output()"
      ]
     },
     "metadata": {},
     "output_type": "display_data"
    },
    {
     "data": {
      "text/html": [
       "<pre style=\"white-space:pre;overflow-x:auto;line-height:normal;font-family:Menlo,'DejaVu Sans Mono',consolas,'Courier New',monospace\"></pre>\n"
      ],
      "text/plain": []
     },
     "metadata": {},
     "output_type": "display_data"
    },
    {
     "data": {
      "application/vnd.jupyter.widget-view+json": {
       "model_id": "63d0ac35d6e1465cb83e91804ddf8ffb",
       "version_major": 2,
       "version_minor": 0
      },
      "text/plain": [
       "Output()"
      ]
     },
     "metadata": {},
     "output_type": "display_data"
    },
    {
     "data": {
      "text/html": [
       "<pre style=\"white-space:pre;overflow-x:auto;line-height:normal;font-family:Menlo,'DejaVu Sans Mono',consolas,'Courier New',monospace\"></pre>\n"
      ],
      "text/plain": []
     },
     "metadata": {},
     "output_type": "display_data"
    },
    {
     "data": {
      "application/vnd.jupyter.widget-view+json": {
       "model_id": "6f79e492c14242eca676de4d401ab819",
       "version_major": 2,
       "version_minor": 0
      },
      "text/plain": [
       "Output()"
      ]
     },
     "metadata": {},
     "output_type": "display_data"
    },
    {
     "data": {
      "text/html": [
       "<pre style=\"white-space:pre;overflow-x:auto;line-height:normal;font-family:Menlo,'DejaVu Sans Mono',consolas,'Courier New',monospace\"></pre>\n"
      ],
      "text/plain": []
     },
     "metadata": {},
     "output_type": "display_data"
    },
    {
     "data": {
      "application/vnd.jupyter.widget-view+json": {
       "model_id": "dbfbcc6977e1445b96e7cda20618725c",
       "version_major": 2,
       "version_minor": 0
      },
      "text/plain": [
       "Output()"
      ]
     },
     "metadata": {},
     "output_type": "display_data"
    },
    {
     "data": {
      "text/html": [
       "<pre style=\"white-space:pre;overflow-x:auto;line-height:normal;font-family:Menlo,'DejaVu Sans Mono',consolas,'Courier New',monospace\"></pre>\n"
      ],
      "text/plain": []
     },
     "metadata": {},
     "output_type": "display_data"
    },
    {
     "data": {
      "application/vnd.jupyter.widget-view+json": {
       "model_id": "9a47bc6cba5b4350a3835b545a944bdc",
       "version_major": 2,
       "version_minor": 0
      },
      "text/plain": [
       "Output()"
      ]
     },
     "metadata": {},
     "output_type": "display_data"
    },
    {
     "data": {
      "text/html": [
       "<pre style=\"white-space:pre;overflow-x:auto;line-height:normal;font-family:Menlo,'DejaVu Sans Mono',consolas,'Courier New',monospace\"></pre>\n"
      ],
      "text/plain": []
     },
     "metadata": {},
     "output_type": "display_data"
    },
    {
     "name": "stdout",
     "output_type": "stream",
     "text": [
      "concatenated_real.shape=(120000, 52)\n",
      "concatenated_imag.shape=(120000, 52)\n",
      "csi.shape=(120000, 52, 2)\n",
      "windowed_csi.shape=(12000, 10, 52, 2)\n"
     ]
    },
    {
     "data": {
      "application/vnd.jupyter.widget-view+json": {
       "model_id": "6c4ced7008444e24ad92714ec182864e",
       "version_major": 2,
       "version_minor": 0
      },
      "text/plain": [
       "Output()"
      ]
     },
     "metadata": {},
     "output_type": "display_data"
    },
    {
     "data": {
      "text/html": [
       "<pre style=\"white-space:pre;overflow-x:auto;line-height:normal;font-family:Menlo,'DejaVu Sans Mono',consolas,'Courier New',monospace\"></pre>\n"
      ],
      "text/plain": []
     },
     "metadata": {},
     "output_type": "display_data"
    },
    {
     "data": {
      "application/vnd.jupyter.widget-view+json": {
       "model_id": "dd0f56743cea44bcbc56c6d13897d4cd",
       "version_major": 2,
       "version_minor": 0
      },
      "text/plain": [
       "Output()"
      ]
     },
     "metadata": {},
     "output_type": "display_data"
    },
    {
     "data": {
      "text/html": [
       "<pre style=\"white-space:pre;overflow-x:auto;line-height:normal;font-family:Menlo,'DejaVu Sans Mono',consolas,'Courier New',monospace\"></pre>\n"
      ],
      "text/plain": []
     },
     "metadata": {},
     "output_type": "display_data"
    },
    {
     "data": {
      "application/vnd.jupyter.widget-view+json": {
       "model_id": "761c0f20d05f403aa84ddde8b57c030f",
       "version_major": 2,
       "version_minor": 0
      },
      "text/plain": [
       "Output()"
      ]
     },
     "metadata": {},
     "output_type": "display_data"
    },
    {
     "data": {
      "text/html": [
       "<pre style=\"white-space:pre;overflow-x:auto;line-height:normal;font-family:Menlo,'DejaVu Sans Mono',consolas,'Courier New',monospace\"></pre>\n"
      ],
      "text/plain": []
     },
     "metadata": {},
     "output_type": "display_data"
    },
    {
     "data": {
      "application/vnd.jupyter.widget-view+json": {
       "model_id": "2b78715e28f2458dbc0fd4d483c7e0b7",
       "version_major": 2,
       "version_minor": 0
      },
      "text/plain": [
       "Output()"
      ]
     },
     "metadata": {},
     "output_type": "display_data"
    },
    {
     "data": {
      "text/html": [
       "<pre style=\"white-space:pre;overflow-x:auto;line-height:normal;font-family:Menlo,'DejaVu Sans Mono',consolas,'Courier New',monospace\"></pre>\n"
      ],
      "text/plain": []
     },
     "metadata": {},
     "output_type": "display_data"
    },
    {
     "data": {
      "application/vnd.jupyter.widget-view+json": {
       "model_id": "8b4ebf868de549f9a6db13acc7dcaa6b",
       "version_major": 2,
       "version_minor": 0
      },
      "text/plain": [
       "Output()"
      ]
     },
     "metadata": {},
     "output_type": "display_data"
    },
    {
     "data": {
      "text/html": [
       "<pre style=\"white-space:pre;overflow-x:auto;line-height:normal;font-family:Menlo,'DejaVu Sans Mono',consolas,'Courier New',monospace\"></pre>\n"
      ],
      "text/plain": []
     },
     "metadata": {},
     "output_type": "display_data"
    },
    {
     "data": {
      "application/vnd.jupyter.widget-view+json": {
       "model_id": "2d84df3563f34fda88f1e72a3c3a01d0",
       "version_major": 2,
       "version_minor": 0
      },
      "text/plain": [
       "Output()"
      ]
     },
     "metadata": {},
     "output_type": "display_data"
    },
    {
     "data": {
      "text/html": [
       "<pre style=\"white-space:pre;overflow-x:auto;line-height:normal;font-family:Menlo,'DejaVu Sans Mono',consolas,'Courier New',monospace\"></pre>\n"
      ],
      "text/plain": []
     },
     "metadata": {},
     "output_type": "display_data"
    },
    {
     "data": {
      "application/vnd.jupyter.widget-view+json": {
       "model_id": "f4cc60e37957403f94c4a78bfe6bfd0a",
       "version_major": 2,
       "version_minor": 0
      },
      "text/plain": [
       "Output()"
      ]
     },
     "metadata": {},
     "output_type": "display_data"
    },
    {
     "data": {
      "text/html": [
       "<pre style=\"white-space:pre;overflow-x:auto;line-height:normal;font-family:Menlo,'DejaVu Sans Mono',consolas,'Courier New',monospace\"></pre>\n"
      ],
      "text/plain": []
     },
     "metadata": {},
     "output_type": "display_data"
    },
    {
     "data": {
      "application/vnd.jupyter.widget-view+json": {
       "model_id": "03c1e04f07dc494aa9f5f2ed03233ccd",
       "version_major": 2,
       "version_minor": 0
      },
      "text/plain": [
       "Output()"
      ]
     },
     "metadata": {},
     "output_type": "display_data"
    },
    {
     "data": {
      "text/html": [
       "<pre style=\"white-space:pre;overflow-x:auto;line-height:normal;font-family:Menlo,'DejaVu Sans Mono',consolas,'Courier New',monospace\"></pre>\n"
      ],
      "text/plain": []
     },
     "metadata": {},
     "output_type": "display_data"
    },
    {
     "name": "stdout",
     "output_type": "stream",
     "text": [
      "concatenated_real.shape=(120000, 52)\n",
      "concatenated_imag.shape=(120000, 52)\n",
      "csi.shape=(120000, 52, 2)\n",
      "windowed_csi.shape=(12000, 10, 52, 2)\n"
     ]
    },
    {
     "data": {
      "application/vnd.jupyter.widget-view+json": {
       "model_id": "a2d711ef5e054aa0a1fa75a5dabd36b3",
       "version_major": 2,
       "version_minor": 0
      },
      "text/plain": [
       "Output()"
      ]
     },
     "metadata": {},
     "output_type": "display_data"
    },
    {
     "data": {
      "text/html": [
       "<pre style=\"white-space:pre;overflow-x:auto;line-height:normal;font-family:Menlo,'DejaVu Sans Mono',consolas,'Courier New',monospace\"></pre>\n"
      ],
      "text/plain": []
     },
     "metadata": {},
     "output_type": "display_data"
    },
    {
     "data": {
      "application/vnd.jupyter.widget-view+json": {
       "model_id": "e913746fd7894d32b08fad8b11a27d7d",
       "version_major": 2,
       "version_minor": 0
      },
      "text/plain": [
       "Output()"
      ]
     },
     "metadata": {},
     "output_type": "display_data"
    },
    {
     "data": {
      "text/html": [
       "<pre style=\"white-space:pre;overflow-x:auto;line-height:normal;font-family:Menlo,'DejaVu Sans Mono',consolas,'Courier New',monospace\"></pre>\n"
      ],
      "text/plain": []
     },
     "metadata": {},
     "output_type": "display_data"
    },
    {
     "data": {
      "application/vnd.jupyter.widget-view+json": {
       "model_id": "b171cb29ccd545e7a737c86b69b6fd60",
       "version_major": 2,
       "version_minor": 0
      },
      "text/plain": [
       "Output()"
      ]
     },
     "metadata": {},
     "output_type": "display_data"
    },
    {
     "data": {
      "text/html": [
       "<pre style=\"white-space:pre;overflow-x:auto;line-height:normal;font-family:Menlo,'DejaVu Sans Mono',consolas,'Courier New',monospace\"></pre>\n"
      ],
      "text/plain": []
     },
     "metadata": {},
     "output_type": "display_data"
    },
    {
     "data": {
      "application/vnd.jupyter.widget-view+json": {
       "model_id": "4630335bfc5245338231a9d805578129",
       "version_major": 2,
       "version_minor": 0
      },
      "text/plain": [
       "Output()"
      ]
     },
     "metadata": {},
     "output_type": "display_data"
    },
    {
     "data": {
      "text/html": [
       "<pre style=\"white-space:pre;overflow-x:auto;line-height:normal;font-family:Menlo,'DejaVu Sans Mono',consolas,'Courier New',monospace\"></pre>\n"
      ],
      "text/plain": []
     },
     "metadata": {},
     "output_type": "display_data"
    },
    {
     "data": {
      "application/vnd.jupyter.widget-view+json": {
       "model_id": "dcc139c6e1044367ae60f55a95b9745f",
       "version_major": 2,
       "version_minor": 0
      },
      "text/plain": [
       "Output()"
      ]
     },
     "metadata": {},
     "output_type": "display_data"
    },
    {
     "data": {
      "text/html": [
       "<pre style=\"white-space:pre;overflow-x:auto;line-height:normal;font-family:Menlo,'DejaVu Sans Mono',consolas,'Courier New',monospace\"></pre>\n"
      ],
      "text/plain": []
     },
     "metadata": {},
     "output_type": "display_data"
    },
    {
     "data": {
      "application/vnd.jupyter.widget-view+json": {
       "model_id": "ee395063717544d2a7a99dea705a2553",
       "version_major": 2,
       "version_minor": 0
      },
      "text/plain": [
       "Output()"
      ]
     },
     "metadata": {},
     "output_type": "display_data"
    },
    {
     "data": {
      "text/html": [
       "<pre style=\"white-space:pre;overflow-x:auto;line-height:normal;font-family:Menlo,'DejaVu Sans Mono',consolas,'Courier New',monospace\"></pre>\n"
      ],
      "text/plain": []
     },
     "metadata": {},
     "output_type": "display_data"
    },
    {
     "data": {
      "application/vnd.jupyter.widget-view+json": {
       "model_id": "c76774a47d0e4e859872906aa155aa74",
       "version_major": 2,
       "version_minor": 0
      },
      "text/plain": [
       "Output()"
      ]
     },
     "metadata": {},
     "output_type": "display_data"
    },
    {
     "data": {
      "text/html": [
       "<pre style=\"white-space:pre;overflow-x:auto;line-height:normal;font-family:Menlo,'DejaVu Sans Mono',consolas,'Courier New',monospace\"></pre>\n"
      ],
      "text/plain": []
     },
     "metadata": {},
     "output_type": "display_data"
    },
    {
     "data": {
      "application/vnd.jupyter.widget-view+json": {
       "model_id": "6d1bc37c78914c5d8635ed4b44c6a286",
       "version_major": 2,
       "version_minor": 0
      },
      "text/plain": [
       "Output()"
      ]
     },
     "metadata": {},
     "output_type": "display_data"
    },
    {
     "data": {
      "text/html": [
       "<pre style=\"white-space:pre;overflow-x:auto;line-height:normal;font-family:Menlo,'DejaVu Sans Mono',consolas,'Courier New',monospace\"></pre>\n"
      ],
      "text/plain": []
     },
     "metadata": {},
     "output_type": "display_data"
    },
    {
     "name": "stdout",
     "output_type": "stream",
     "text": [
      "concatenated_real.shape=(120000, 52)\n",
      "concatenated_imag.shape=(120000, 52)\n",
      "csi.shape=(120000, 52, 2)\n",
      "windowed_csi.shape=(12000, 10, 52, 2)\n"
     ]
    }
   ],
   "source": [
    "for location in ['512', '511', '514B']:\n",
    "    location_data_dirpath = resampled_data_dirpath / location\n",
    "    \n",
    "    # サブディレクトリをすべて取得\n",
    "    session_dirpaths = [d for d in location_data_dirpath.iterdir() if d.is_dir()]\n",
    "    \n",
    "    reals = []\n",
    "    imags = []\n",
    "    # 結果を表示\n",
    "    for session_dirpath in session_dirpaths:\n",
    "        real = np.load(session_dirpath / 'real.npy')\n",
    "        imag = np.load(session_dirpath / 'imag.npy')\n",
    "    \n",
    "        reals.append(real_preprocess(real))\n",
    "        imags.append(imag_preprocess(imag))\n",
    "\n",
    "    concatenated_real = np.concatenate(reals)\n",
    "    concatenated_imag = np.concatenate(imags)\n",
    "\n",
    "    print(f'{concatenated_real.shape=}')\n",
    "    print(f'{concatenated_imag.shape=}')\n",
    "\n",
    "    csi = np.stack([concatenated_real, concatenated_imag], axis=-1)\n",
    "    print(f'{csi.shape=}')\n",
    "\n",
    "    normalized_csi = normalize_csi_data_by_frame_power(csi)\n",
    "\n",
    "    windowed_csi = windowing(normalized_csi, 10)\n",
    "    print(f'{windowed_csi.shape=}')\n",
    "\n",
    "    save_location_dirpath = save_dirpath / location\n",
    "    save_location_dirpath.mkdir(parents=True, exist_ok=True)\n",
    "    np.save(save_location_dirpath / 'csi.npy', windowed_csi)"
   ]
  },
  {
   "cell_type": "code",
   "execution_count": null,
   "id": "82dc652d-e953-4517-90cb-bde370dd1f0e",
   "metadata": {},
   "outputs": [],
   "source": []
  }
 ],
 "metadata": {
  "kernelspec": {
   "display_name": "Python 3 (ipykernel)",
   "language": "python",
   "name": "python3"
  },
  "language_info": {
   "codemirror_mode": {
    "name": "ipython",
    "version": 3
   },
   "file_extension": ".py",
   "mimetype": "text/x-python",
   "name": "python",
   "nbconvert_exporter": "python",
   "pygments_lexer": "ipython3",
   "version": "3.8.10"
  }
 },
 "nbformat": 4,
 "nbformat_minor": 5
}
