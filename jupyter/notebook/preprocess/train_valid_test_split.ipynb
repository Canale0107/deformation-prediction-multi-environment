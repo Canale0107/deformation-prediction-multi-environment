{
 "cells": [
  {
   "cell_type": "markdown",
   "id": "f04c5d54-bf48-4d5d-b3c0-b4b36ca45141",
   "metadata": {},
   "source": [
    "# 各データ分割関数のインターフェース"
   ]
  },
  {
   "cell_type": "code",
   "execution_count": 1,
   "id": "d404decc-eb55-4e6c-9022-4df8317c9c3a",
   "metadata": {},
   "outputs": [
    {
     "name": "stderr",
     "output_type": "stream",
     "text": [
      "2024-10-29 00:25:46.685532: I tensorflow/core/platform/cpu_feature_guard.cc:193] This TensorFlow binary is optimized with oneAPI Deep Neural Network Library (oneDNN) to use the following CPU instructions in performance-critical operations:  AVX2 AVX512F AVX512_VNNI FMA\n",
      "To enable them in other operations, rebuild TensorFlow with the appropriate compiler flags.\n",
      "2024-10-29 00:25:46.812807: I tensorflow/core/util/port.cc:104] oneDNN custom operations are on. You may see slightly different numerical results due to floating-point round-off errors from different computation orders. To turn them off, set the environment variable `TF_ENABLE_ONEDNN_OPTS=0`.\n"
     ]
    }
   ],
   "source": [
    "from util.training.dataloader import split_data_for_single_location, split_data_for_multiple_location, split_data_for_cross_environment"
   ]
  },
  {
   "cell_type": "markdown",
   "id": "4938cc37-037d-4910-81d5-7fc5f335da90",
   "metadata": {},
   "source": [
    "# Single Location Training"
   ]
  },
  {
   "cell_type": "code",
   "execution_count": 2,
   "id": "f5ba881e-84fe-4e18-9663-926a529022b5",
   "metadata": {},
   "outputs": [],
   "source": [
    "train_data, valid_data, test_data = split_data_for_single_location('511')"
   ]
  },
  {
   "cell_type": "code",
   "execution_count": 10,
   "id": "c815f245-8553-43b9-b29f-e871b16e2a09",
   "metadata": {},
   "outputs": [
    {
     "name": "stdout",
     "output_type": "stream",
     "text": [
      "(16800, 10, 52, 2) (16800, 28, 28)\n",
      "(7200, 10, 52, 2) (7200, 28, 28)\n",
      "(1800, 10, 52, 2) (1800, 28, 28)\n"
     ]
    }
   ],
   "source": [
    "X_train, y_train = train_data\n",
    "X_valid, y_valid = valid_data\n",
    "X_test, y_test = test_data\n",
    "\n",
    "print(X_train.shape, y_train.shape)\n",
    "print(X_valid.shape, y_valid.shape)\n",
    "print(X_test.shape, y_test.shape)"
   ]
  },
  {
   "cell_type": "markdown",
   "id": "57351bba-1eab-4605-95cc-b96c3d8e5ace",
   "metadata": {},
   "source": [
    "# Multi-Location Training with Fine-Tuning"
   ]
  },
  {
   "cell_type": "markdown",
   "id": "9870d412-a39f-422b-b7bf-100d934dc046",
   "metadata": {},
   "source": [
    "訓練セット：すべてのlocationにおけるtrainセットを結合してシャッフルしたもの  \n",
    "テストセット：各locationのテストセット"
   ]
  },
  {
   "cell_type": "code",
   "execution_count": 4,
   "id": "3da4b43b-64d1-4d34-b72b-30444b5d67f2",
   "metadata": {},
   "outputs": [],
   "source": [
    "location_list = ['511', '512', '514B']\n",
    "train_data, valid_data, test_data_dict = split_data_for_multiple_location(location_list)\n",
    "\n",
    "X_train, y_train = train_data\n",
    "X_valid, y_valid = valid_data"
   ]
  },
  {
   "cell_type": "code",
   "execution_count": 5,
   "id": "f79b97af-169f-4dcd-a22a-1dd988d46804",
   "metadata": {},
   "outputs": [
    {
     "name": "stdout",
     "output_type": "stream",
     "text": [
      "(25200, 10, 52, 2) (25200, 28, 28)\n",
      "(5400, 10, 52, 2) (5400, 28, 28)\n"
     ]
    }
   ],
   "source": [
    "print(X_train.shape, y_train.shape)\n",
    "print(X_valid.shape, y_valid.shape)"
   ]
  },
  {
   "cell_type": "code",
   "execution_count": 6,
   "id": "2a7a1d60-8318-4c21-96b5-82dbfc7d9137",
   "metadata": {},
   "outputs": [],
   "source": [
    "X_test_511, y_test_511 = test_data_dict['511']\n",
    "X_test_512, y_test_512 = test_data_dict['512']\n",
    "X_test_514B, y_test_514B = test_data_dict['514B']"
   ]
  },
  {
   "cell_type": "code",
   "execution_count": 7,
   "id": "16782bc5-5a7f-43af-8e09-23fe5a308973",
   "metadata": {},
   "outputs": [
    {
     "name": "stdout",
     "output_type": "stream",
     "text": [
      "(1800, 10, 52, 2) (1800, 28, 28)\n",
      "(1800, 10, 52, 2) (1800, 28, 28)\n",
      "(1800, 10, 52, 2) (1800, 28, 28)\n"
     ]
    }
   ],
   "source": [
    "print(X_test_511.shape, y_test_511.shape)\n",
    "print(X_test_512.shape, y_test_512.shape)\n",
    "print(X_test_514B.shape, y_test_514B.shape)"
   ]
  },
  {
   "cell_type": "markdown",
   "id": "84cbf67c-0bac-44d2-80a7-86145b5de9f4",
   "metadata": {},
   "source": [
    "# Cross-Environment Prediction with Fine-Tuning"
   ]
  },
  {
   "cell_type": "code",
   "execution_count": 8,
   "id": "c96986a2-6053-4812-b5f7-34d8ccb7e1a4",
   "metadata": {},
   "outputs": [
    {
     "name": "stdout",
     "output_type": "stream",
     "text": [
      "(16800, 10, 52, 2) (16800, 28, 28)\n",
      "(7200, 10, 52, 2) (7200, 28, 28)\n"
     ]
    }
   ],
   "source": [
    "train_location = ['511', '512']\n",
    "test_location = ['514B']\n",
    "\n",
    "train_data, valid_data, ft_data_dict, test_data_dict = split_data_for_cross_environment(train_location, test_location)\n",
    "\n",
    "X_train, y_train = train_data\n",
    "X_valid, y_valid = valid_data\n",
    "\n",
    "print(X_train.shape, y_train.shape)\n",
    "print(X_valid.shape, y_valid.shape)"
   ]
  },
  {
   "cell_type": "code",
   "execution_count": 9,
   "id": "51aefa9b-6a3e-4c13-af81-c8394c69de23",
   "metadata": {},
   "outputs": [
    {
     "name": "stdout",
     "output_type": "stream",
     "text": [
      "(8400, 10, 52, 2) (3600, 10, 52, 2)\n"
     ]
    }
   ],
   "source": [
    "X_ft_514B, y_ft_514B = ft_data_dict['514B']\n",
    "X_test_514B, y_test_514B = test_data_dict['514B']\n",
    "\n",
    "print(X_ft_514B.shape, X_test_514B.shape)"
   ]
  },
  {
   "cell_type": "code",
   "execution_count": null,
   "id": "3c67d924-ee52-4bf0-8f58-2840908bd69f",
   "metadata": {},
   "outputs": [],
   "source": []
  }
 ],
 "metadata": {
  "kernelspec": {
   "display_name": "Python 3 (ipykernel)",
   "language": "python",
   "name": "python3"
  },
  "language_info": {
   "codemirror_mode": {
    "name": "ipython",
    "version": 3
   },
   "file_extension": ".py",
   "mimetype": "text/x-python",
   "name": "python",
   "nbconvert_exporter": "python",
   "pygments_lexer": "ipython3",
   "version": "3.8.10"
  }
 },
 "nbformat": 4,
 "nbformat_minor": 5
}
